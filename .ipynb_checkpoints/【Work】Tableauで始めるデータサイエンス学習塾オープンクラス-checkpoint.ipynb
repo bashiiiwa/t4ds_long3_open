{
 "cells": [
  {
   "cell_type": "markdown",
   "metadata": {
    "colab_type": "text",
    "id": "TPqvpUNb6eK_"
   },
   "source": [
    "# Tableauで始めるデータサイエンス学習塾　オープンクラス\n",
    "\n"
   ]
  },
  {
   "cell_type": "markdown",
   "metadata": {},
   "source": [
    "今回は東京中古マンションのデータを利用します。「housing_tokyo_chuo_line_week3.csv」のデータが与えられているとして、まずはTableauで可視化をしてみましょう。\n",
    "\n",
    "\n",
    "こちらの資料は　**「Tableauデータサイエンス学習塾（全6回） 5/13 開催」** (https://ds4tableau-1.connpass.com/event/168438/) のクラス資料の一部です。\n",
    "\n",
    "講習では、データの理解、準備、予測モデル作成、予測結果の活用といったデータ活用のプロセスを包括的に体験し、自力でデータに立ち向かう力を身に付けます。\n"
   ]
  },
  {
   "cell_type": "markdown",
   "metadata": {
    "colab_type": "text",
    "id": "PmZKwhpi6eK_"
   },
   "source": [
    "### scikit-learnで重回帰分析の実装\n",
    "#### scikit-learnとは\n",
    "\n",
    "scikit-learnとは、非常に便利なPythonの機械学習パッケージとなります。少ない行数、わかりやすいコードで機械学習を実装することができるため多くのユーザーに支持されています。Pythonの機械学習パッケージでは、デファクトスタンダードとなっております。"
   ]
  },
  {
   "cell_type": "markdown",
   "metadata": {
    "colab_type": "text",
    "id": "nz18NGyZ6eK_"
   },
   "source": [
    "#### データの準備\n",
    "東京中古マンションのデータを読み込みましょう。"
   ]
  },
  {
   "cell_type": "code",
   "execution_count": 75,
   "metadata": {
    "colab": {},
    "colab_type": "code",
    "id": "AZdGtsnk6eK_"
   },
   "outputs": [],
   "source": [
    "#pandasをインポートします。\n",
    "\n",
    "import pandas as pd\n"
   ]
  },
  {
   "cell_type": "code",
   "execution_count": 76,
   "metadata": {},
   "outputs": [],
   "source": [
    "# データをインポートします。\n",
    "#data = pd.read_csv(\"tokyo_housing_chuoline_simple.csv\")"
   ]
  },
  {
   "cell_type": "code",
   "execution_count": 77,
   "metadata": {},
   "outputs": [],
   "source": [
    "#data"
   ]
  },
  {
   "cell_type": "code",
   "execution_count": 78,
   "metadata": {},
   "outputs": [],
   "source": [
    "## uidは予測に必要がないので削除しましょう。\n",
    "#df = data[['years','minutes','sqrm','renovate','price']]\n",
    "#df\n"
   ]
  },
  {
   "cell_type": "markdown",
   "metadata": {
    "colab_type": "text",
    "id": "OrIlr1fk6eLB"
   },
   "source": [
    "## 予測モデルを作る\n",
    "\n",
    "教師アリ学習での予測モデル作成の流れは以下のようになります。\n",
    "![教師アリ](images/教師アリ学習.png)\n",
    "\n",
    "予測モデルを作るために初めにすることは、「説明変数 x」と「目的変数 t」を分けることです。\n",
    "まずは、入力変数`x`と出力変数`t`に分けておきましょう。分割には`iloc[]`を用います。"
   ]
  },
  {
   "cell_type": "code",
   "execution_count": 79,
   "metadata": {},
   "outputs": [],
   "source": [
    "#データフレーム df には何が入っているか確認します。　→　何が目的変数ですか？\n",
    "\n",
    "#df"
   ]
  },
  {
   "cell_type": "code",
   "execution_count": 103,
   "metadata": {
    "colab": {},
    "colab_type": "code",
    "id": "t-aCuMqp6eLB"
   },
   "outputs": [],
   "source": [
    "#priceは除く\n",
    "#x = df.iloc[:, :-1] \n",
    "\n",
    "#priceだけ保持する\n",
    "#t = df.iloc[:, -1] "
   ]
  },
  {
   "cell_type": "markdown",
   "metadata": {
    "colab_type": "text",
    "id": "BrvruFgO6eLC"
   },
   "source": [
    "#### scikit-learnのimport\n",
    "データの準備ができたのでscikit-learnをimportしましょう。scikit-learnは`sklearn`という名前でimportしますが、今回は`sklearn`の中の`linear_model`（線形モデル）の中の`LinearRegression`（線形回帰）をimportします。つまり、重回帰分析を実装するための機能をピンポイントでimportするイメージです。"
   ]
  },
  {
   "cell_type": "code",
   "execution_count": 104,
   "metadata": {
    "colab": {},
    "colab_type": "code",
    "id": "nFu6pZcO6eLD"
   },
   "outputs": [],
   "source": [
    "# Linear Regression の　インポート\n",
    "from sklearn.linear_model import LinearRegression"
   ]
  },
  {
   "cell_type": "markdown",
   "metadata": {
    "colab_type": "text",
    "id": "DOHjOvfKyxyF"
   },
   "source": [
    "#### モデルの宣言\n",
    "\n",
    "まずは、モデル（手法）の宣言を行います。先程importした`LinearRegression()`を`model`という変数に代入してあげます。厳密には「クラスのインスタンス化」というものにあたりますが、気になる方は調べてみてください。"
   ]
  },
  {
   "cell_type": "code",
   "execution_count": 82,
   "metadata": {
    "colab": {},
    "colab_type": "code",
    "id": "P5pmzS5VyxyF"
   },
   "outputs": [],
   "source": [
    "# ①モデルの宣言\n",
    "#model = LinearRegression()"
   ]
  },
  {
   "cell_type": "markdown",
   "metadata": {
    "colab_type": "text",
    "id": "G1MNAb0MyxyI"
   },
   "source": [
    "#### モデルの学習\n",
    "\n",
    "モデルの宣言後、**モデルの学習**を行います。モデルの学習とは、手持ちのデータを用いて適切なパラーメータを求めることです。"
   ]
  },
  {
   "cell_type": "code",
   "execution_count": 83,
   "metadata": {
    "colab": {
     "base_uri": "https://localhost:8080/",
     "height": 51
    },
    "colab_type": "code",
    "executionInfo": {
     "elapsed": 1404,
     "status": "ok",
     "timestamp": 1554871546228,
     "user": {
      "displayName": "西沢衛",
      "photoUrl": "",
      "userId": "12011220225445512117"
     },
     "user_tz": -540
    },
    "id": "-Eorr9D8yxyI",
    "outputId": "f7db9c83-0681-4672-c5e2-3df8fcf4ee28"
   },
   "outputs": [],
   "source": [
    "# ②モデルの学習\n",
    "#model.fit(x, t)"
   ]
  },
  {
   "cell_type": "markdown",
   "metadata": {
    "colab_type": "text",
    "id": "vcLmuCjqyxyK"
   },
   "source": [
    "#### モデルの評価\n",
    "\n",
    "学習後のモデルを評価しましょう。モデルの評価には決定係数という指標を用います。  決定係数とは、モデルの当てはまりの良さを0から1までの値で表す指標になります。 1に近い方がより良いモデルを表しています。`score()`で評価することができます。評価するには、データも一緒に渡す必要があるため()内に、`x`と`t`を入れております。"
   ]
  },
  {
   "cell_type": "code",
   "execution_count": 85,
   "metadata": {
    "colab": {
     "base_uri": "https://localhost:8080/",
     "height": 34
    },
    "colab_type": "code",
    "executionInfo": {
     "elapsed": 660,
     "status": "ok",
     "timestamp": 1554871548393,
     "user": {
      "displayName": "西沢衛",
      "photoUrl": "",
      "userId": "12011220225445512117"
     },
     "user_tz": -540
    },
    "id": "QaXozWyWyxyK",
    "outputId": "17782d2b-f6e8-407a-b0fd-fe072e8ed28d"
   },
   "outputs": [],
   "source": [
    "# モデルの評価\n",
    "#model.score(x, t)"
   ]
  },
  {
   "cell_type": "markdown",
   "metadata": {
    "colab_type": "text",
    "id": "Bz_PENUhyxyN"
   },
   "source": [
    "xxxx　という数値が出てきました。最大が1であることを考えると思ったより悪くはない数字かと思います。\n",
    "\n",
    "> 補足：回帰と分類によって、`score()`を使用したときの評価指標が異なります。 分類は正解率（Accuracy）が評価指標になります。\n",
    "> - 回帰：決定係数  \n",
    "> - 分類：正解率（Accuracy）\n",
    "\n",
    "決定係数とは？？\n",
    "![R2](images/R2.png)\n"
   ]
  },
  {
   "cell_type": "code",
   "execution_count": 86,
   "metadata": {},
   "outputs": [],
   "source": [
    "#③予測値をゲットしてみましょう。\n",
    "#p = model.predict(x)\n",
    "\n",
    "#データフレームに変換します。\n",
    "#p = pd.DataFrame(p,columns=['predict'])"
   ]
  },
  {
   "cell_type": "code",
   "execution_count": 87,
   "metadata": {},
   "outputs": [],
   "source": [
    "#オリジナルのデータと連結します。\n",
    "#results = pd.concat([data,p],axis=1)\n",
    "#results"
   ]
  },
  {
   "cell_type": "code",
   "execution_count": 88,
   "metadata": {},
   "outputs": [],
   "source": [
    "#一度CSVに落としましょう。一度Tableauに戻って評価してみましょう。\n",
    "#results.to_csv(\"results.LinearRegression.csv\")"
   ]
  },
  {
   "cell_type": "code",
   "execution_count": 89,
   "metadata": {},
   "outputs": [],
   "source": [
    "# sklearn から mean_squared_error をインポートします。\n",
    "from sklearn.metrics import mean_squared_error\n",
    "import math"
   ]
  },
  {
   "cell_type": "code",
   "execution_count": 90,
   "metadata": {},
   "outputs": [],
   "source": [
    "#RMSEを計算します。\n",
    "#mse = mean_squared_error(t, p)\n",
    "#print('RMSE:', math.sqrt(mse))"
   ]
  },
  {
   "cell_type": "markdown",
   "metadata": {},
   "source": [
    "RMSEとは、Root Mean Square Error（二乗平均平方根誤差）の略で、回帰モデルの最も一般的な性能指標で以下の式で表現されます。\n",
    "\n",
    "![RMSEとは](images/RMSEとは.png)"
   ]
  },
  {
   "cell_type": "markdown",
   "metadata": {},
   "source": [
    "## Webからスクレイピングしてきたデータを入力として、予測値を出してみましょう。\n",
    "\n",
    "モデルの評価が完了したら、次は実際に予測を行っていきましょう。\n",
    "\n",
    "以下のデータは不動産Webページからスクレイピングしてきたデータです。　\n",
    "これは学習に利用した国土交通省のデータには含まれていませんので、絶対に学習に使っていないデータです。\n",
    "\n",
    "国土交通省データで学習したモデルに、Webスクレイピングしたデータを入力して予測値を得ましょう。\n",
    "\n",
    "RMSEを使ってモデルの精度を確認しましょう。\n",
    "\n",
    "Tableau を使って特に誤差が大きく発生している原因を考えましょう。\n",
    "\n",
    "追加すると良いと思われる特徴量を考えてみましょう。\n"
   ]
  },
  {
   "cell_type": "code",
   "execution_count": 92,
   "metadata": {},
   "outputs": [],
   "source": [
    "# スクレイピングデータをインポートします。\n",
    "#data_scraping = pd.read_csv(\"HOMES_SCRAPING_ChuoLine_lat_long-UTF8.csv\")"
   ]
  },
  {
   "cell_type": "code",
   "execution_count": 93,
   "metadata": {},
   "outputs": [],
   "source": [
    "#中身を確認します。\n",
    "#data_scraping.head()"
   ]
  },
  {
   "cell_type": "code",
   "execution_count": 94,
   "metadata": {},
   "outputs": [],
   "source": [
    "#予測に必要な特徴量（説明変数はilocの列指定で、 2:8 です。）\n",
    "#test_x = data_scraping[['years','minutes','sqrm','renovate']]\n",
    "#test_x.head()"
   ]
  },
  {
   "cell_type": "code",
   "execution_count": 95,
   "metadata": {},
   "outputs": [],
   "source": [
    "# predict_price に予測結果を格納します。\n",
    "#predict_price = model.predict(test_x)"
   ]
  },
  {
   "cell_type": "code",
   "execution_count": 96,
   "metadata": {},
   "outputs": [],
   "source": [
    "# 予測結果をDataFrame型に変換します。\n",
    "#df_predict_price = pd.DataFrame(predict_price, columns=['predict'])"
   ]
  },
  {
   "cell_type": "code",
   "execution_count": 97,
   "metadata": {},
   "outputs": [],
   "source": [
    "#元々の情報に予測結果を追加します。concatを使います。\n",
    "#scraping_predict =  pd.concat([data_scraping,df_predict_price],axis=1)"
   ]
  },
  {
   "cell_type": "code",
   "execution_count": 98,
   "metadata": {},
   "outputs": [],
   "source": [
    "#中身を確認します。\n",
    "#scraping_predict.head()"
   ]
  },
  {
   "cell_type": "code",
   "execution_count": 99,
   "metadata": {},
   "outputs": [],
   "source": [
    "#回答となる実際のマンション価格 (単位が1万円なので 10000をかけます。)\n",
    "#t = data_scraping['price']*10000\n"
   ]
  },
  {
   "cell_type": "code",
   "execution_count": 100,
   "metadata": {},
   "outputs": [],
   "source": [
    "#RMSEを計算します。\n",
    "#mse = mean_squared_error(t, predict_price)\n",
    "#print('RMSE:', math.sqrt(mse))"
   ]
  },
  {
   "cell_type": "code",
   "execution_count": 101,
   "metadata": {},
   "outputs": [],
   "source": [
    "#csvに吐き出します。この結果をTableauで可視化して誤差を確認し、追加すると良いと思われる説明変数を検討します。\n",
    "#scraping_predict.to_csv(\"Chuoline_Scraiping+Predict.csv\")"
   ]
  },
  {
   "cell_type": "code",
   "execution_count": 102,
   "metadata": {},
   "outputs": [
    {
     "data": {
      "text/html": [
       "<div class='tableauPlaceholder' id='viz1581142085782' style='position: relative'><noscript><a href='#'><img alt=' ' src='https:&#47;&#47;public.tableau.com&#47;static&#47;images&#47;KD&#47;KD7QTP8FH&#47;1_rss.png' style='border: none' /></a></noscript><object class='tableauViz'  style='display:none;'><param name='host_url' value='https%3A%2F%2Fpublic.tableau.com%2F' /> <param name='embed_code_version' value='3' /> <param name='path' value='shared&#47;KD7QTP8FH' /> <param name='toolbar' value='yes' /><param name='static_image' value='https:&#47;&#47;public.tableau.com&#47;static&#47;images&#47;KD&#47;KD7QTP8FH&#47;1.png' /> <param name='animate_transition' value='yes' /><param name='display_static_image' value='yes' /><param name='display_spinner' value='yes' /><param name='display_overlay' value='yes' /><param name='display_count' value='yes' /><param name='filter' value='publish=yes' /></object></div>                <script type='text/javascript'>                    var divElement = document.getElementById('viz1581142085782');                    var vizElement = divElement.getElementsByTagName('object')[0];                    if ( divElement.offsetWidth > 800 ) { vizElement.style.width='100%';vizElement.style.height=(divElement.offsetWidth*0.75)+'px';} else if ( divElement.offsetWidth > 500 ) { vizElement.style.width='100%';vizElement.style.height=(divElement.offsetWidth*0.75)+'px';} else { vizElement.style.width='100%';vizElement.style.minHeight='1400px';vizElement.style.maxHeight=(divElement.offsetWidth*1.77)+'px';}                     var scriptElement = document.createElement('script');                    scriptElement.src = 'https://public.tableau.com/javascripts/api/viz_v1.js';                    vizElement.parentNode.insertBefore(scriptElement, vizElement);                </script>\n"
      ],
      "text/plain": [
       "<IPython.core.display.HTML object>"
      ]
     },
     "metadata": {},
     "output_type": "display_data"
    }
   ],
   "source": [
    "%%HTML\n",
    "<div class='tableauPlaceholder' id='viz1581142085782' style='position: relative'><noscript><a href='#'><img alt=' ' src='https:&#47;&#47;public.tableau.com&#47;static&#47;images&#47;KD&#47;KD7QTP8FH&#47;1_rss.png' style='border: none' /></a></noscript><object class='tableauViz'  style='display:none;'><param name='host_url' value='https%3A%2F%2Fpublic.tableau.com%2F' /> <param name='embed_code_version' value='3' /> <param name='path' value='shared&#47;KD7QTP8FH' /> <param name='toolbar' value='yes' /><param name='static_image' value='https:&#47;&#47;public.tableau.com&#47;static&#47;images&#47;KD&#47;KD7QTP8FH&#47;1.png' /> <param name='animate_transition' value='yes' /><param name='display_static_image' value='yes' /><param name='display_spinner' value='yes' /><param name='display_overlay' value='yes' /><param name='display_count' value='yes' /><param name='filter' value='publish=yes' /></object></div>                <script type='text/javascript'>                    var divElement = document.getElementById('viz1581142085782');                    var vizElement = divElement.getElementsByTagName('object')[0];                    if ( divElement.offsetWidth > 800 ) { vizElement.style.width='100%';vizElement.style.height=(divElement.offsetWidth*0.75)+'px';} else if ( divElement.offsetWidth > 500 ) { vizElement.style.width='100%';vizElement.style.height=(divElement.offsetWidth*0.75)+'px';} else { vizElement.style.width='100%';vizElement.style.minHeight='1400px';vizElement.style.maxHeight=(divElement.offsetWidth*1.77)+'px';}                     var scriptElement = document.createElement('script');                    scriptElement.src = 'https://public.tableau.com/javascripts/api/viz_v1.js';                    vizElement.parentNode.insertBefore(scriptElement, vizElement);                </script>"
   ]
  },
  {
   "cell_type": "markdown",
   "metadata": {},
   "source": [
    "## 以上がイントロダクションになります。"
   ]
  },
  {
   "cell_type": "code",
   "execution_count": null,
   "metadata": {},
   "outputs": [],
   "source": []
  },
  {
   "cell_type": "markdown",
   "metadata": {
    "colab_type": "text",
    "id": "JxmUb_IFyxyN"
   },
   "source": [
    "## 訓練データと検証データに分割\n",
    "\n",
    "みなさん、前述のモデルの評価で実はやってはいけないことをしていました。なにかわかりますでしょうか。\n",
    "それは、学習に用いたデータをそのままモデルの評価に使用している点です。モデルは学習に用いたデータにうまく当てはめようと計算するのですから、うまくあてはまるのはごく自然なことですよね。\n",
    "\n",
    "(これは試験に何が出るか知っていてこれに答えるカンニングみたいなものです。**学習に使っていない、新しいデータに対しても予測**できなくてはなりません！）\n",
    "\n",
    "理想は学習に使用するデータにうまくあてはまるだけではなく、新しいデータに対しても上手く当てはまることを確認する必要があります。\n",
    "\n",
    "ここで出てくるのが**訓練データ**と**検証データ**になります。手持ちのデータを2つに分割し、モデルの学習に用いる訓練データとモデルの評価に用いる検証データに分割します。このようにすることで、新しいデータへの汎用性も確かめることができます。分割の割合はだいたい7:3で行うことが多いです。理想は5:5で半分を学習に用い、半分を評価に用いることです。しかし、現実は理想通りに分割できるほどのサンプル数がありませんので、学習に用いるデータに多くの割合を割くことになります。\n",
    "\n",
    "このようにデータを訓練データと検証データに分割することを **ホールドアウト法** と呼びます。\n",
    "\n",
    "また、ここで抑えておきたい話の中に**過学習（オーバーフィッティング）**というものがあります。これは、訓練データにうまく当てはまりすぎてしまい、新しいデータへの汎用性を失ってしまうことを意味します。例えるならば、定期試験前に過去問をひたすら勉強し、過去問では100点をたくさん取ることができるが、実際の試験では60点くらいしか取れないようなイメージです。過去のデータに**学習**し**過**ぎてしまう現象です。\n",
    "\n",
    "![overfitting](./images/overfitting.png)\n",
    "\n",
    "上記のことを踏まえ、実際にホールドアウト法でもう一度実装してみましょう。\n",
    "`sklearn`の中の`model_selection`の中に`train_test_split`がありますので、こちらをimportしましょう。\n",
    "\n"
   ]
  },
  {
   "cell_type": "code",
   "execution_count": 29,
   "metadata": {
    "colab": {},
    "colab_type": "code",
    "id": "trGhfCrCyxyN"
   },
   "outputs": [],
   "source": [
    "from sklearn.model_selection import train_test_split"
   ]
  },
  {
   "cell_type": "code",
   "execution_count": 30,
   "metadata": {},
   "outputs": [],
   "source": [
    "# データをインポートします。\n",
    "data = pd.read_csv(\"tokyo_housing_chuoline_simple.csv\")"
   ]
  },
  {
   "cell_type": "code",
   "execution_count": 31,
   "metadata": {},
   "outputs": [
    {
     "data": {
      "text/html": [
       "<div>\n",
       "<style scoped>\n",
       "    .dataframe tbody tr th:only-of-type {\n",
       "        vertical-align: middle;\n",
       "    }\n",
       "\n",
       "    .dataframe tbody tr th {\n",
       "        vertical-align: top;\n",
       "    }\n",
       "\n",
       "    .dataframe thead th {\n",
       "        text-align: right;\n",
       "    }\n",
       "</style>\n",
       "<table border=\"1\" class=\"dataframe\">\n",
       "  <thead>\n",
       "    <tr style=\"text-align: right;\">\n",
       "      <th></th>\n",
       "      <th>years</th>\n",
       "      <th>minutes</th>\n",
       "      <th>sqrm</th>\n",
       "      <th>renovate</th>\n",
       "      <th>price</th>\n",
       "    </tr>\n",
       "  </thead>\n",
       "  <tbody>\n",
       "    <tr>\n",
       "      <td>0</td>\n",
       "      <td>34</td>\n",
       "      <td>3</td>\n",
       "      <td>35</td>\n",
       "      <td>0</td>\n",
       "      <td>24000000</td>\n",
       "    </tr>\n",
       "    <tr>\n",
       "      <td>1</td>\n",
       "      <td>37</td>\n",
       "      <td>4</td>\n",
       "      <td>20</td>\n",
       "      <td>0</td>\n",
       "      <td>13000000</td>\n",
       "    </tr>\n",
       "    <tr>\n",
       "      <td>2</td>\n",
       "      <td>34</td>\n",
       "      <td>3</td>\n",
       "      <td>30</td>\n",
       "      <td>0</td>\n",
       "      <td>22000000</td>\n",
       "    </tr>\n",
       "    <tr>\n",
       "      <td>3</td>\n",
       "      <td>35</td>\n",
       "      <td>1</td>\n",
       "      <td>70</td>\n",
       "      <td>0</td>\n",
       "      <td>69000000</td>\n",
       "    </tr>\n",
       "    <tr>\n",
       "      <td>4</td>\n",
       "      <td>34</td>\n",
       "      <td>3</td>\n",
       "      <td>25</td>\n",
       "      <td>0</td>\n",
       "      <td>21000000</td>\n",
       "    </tr>\n",
       "    <tr>\n",
       "      <td>...</td>\n",
       "      <td>...</td>\n",
       "      <td>...</td>\n",
       "      <td>...</td>\n",
       "      <td>...</td>\n",
       "      <td>...</td>\n",
       "    </tr>\n",
       "    <tr>\n",
       "      <td>2994</td>\n",
       "      <td>19</td>\n",
       "      <td>4</td>\n",
       "      <td>20</td>\n",
       "      <td>0</td>\n",
       "      <td>17000000</td>\n",
       "    </tr>\n",
       "    <tr>\n",
       "      <td>2995</td>\n",
       "      <td>21</td>\n",
       "      <td>1</td>\n",
       "      <td>80</td>\n",
       "      <td>0</td>\n",
       "      <td>65000000</td>\n",
       "    </tr>\n",
       "    <tr>\n",
       "      <td>2996</td>\n",
       "      <td>21</td>\n",
       "      <td>1</td>\n",
       "      <td>65</td>\n",
       "      <td>0</td>\n",
       "      <td>42000000</td>\n",
       "    </tr>\n",
       "    <tr>\n",
       "      <td>2997</td>\n",
       "      <td>15</td>\n",
       "      <td>3</td>\n",
       "      <td>25</td>\n",
       "      <td>0</td>\n",
       "      <td>19000000</td>\n",
       "    </tr>\n",
       "    <tr>\n",
       "      <td>2998</td>\n",
       "      <td>14</td>\n",
       "      <td>2</td>\n",
       "      <td>20</td>\n",
       "      <td>0</td>\n",
       "      <td>14000000</td>\n",
       "    </tr>\n",
       "  </tbody>\n",
       "</table>\n",
       "<p>2999 rows × 5 columns</p>\n",
       "</div>"
      ],
      "text/plain": [
       "      years  minutes  sqrm  renovate     price\n",
       "0        34        3    35         0  24000000\n",
       "1        37        4    20         0  13000000\n",
       "2        34        3    30         0  22000000\n",
       "3        35        1    70         0  69000000\n",
       "4        34        3    25         0  21000000\n",
       "...     ...      ...   ...       ...       ...\n",
       "2994     19        4    20         0  17000000\n",
       "2995     21        1    80         0  65000000\n",
       "2996     21        1    65         0  42000000\n",
       "2997     15        3    25         0  19000000\n",
       "2998     14        2    20         0  14000000\n",
       "\n",
       "[2999 rows x 5 columns]"
      ]
     },
     "execution_count": 31,
     "metadata": {},
     "output_type": "execute_result"
    }
   ],
   "source": [
    "## uidは予測に必要がないので削除しましょう。\n",
    "df = data[['years','minutes','sqrm','renovate','price']]\n",
    "df"
   ]
  },
  {
   "cell_type": "code",
   "execution_count": 32,
   "metadata": {},
   "outputs": [],
   "source": [
    "#priceは除く\n",
    "x = df.iloc[:, :-1] \n",
    "\n",
    "#priceだけ保持する\n",
    "t = df.iloc[:, -1] "
   ]
  },
  {
   "cell_type": "markdown",
   "metadata": {
    "colab_type": "text",
    "id": "pulsGeFr6eLL"
   },
   "source": [
    "それぞれ以下の変数名で定義します。\n",
    "- `x`の訓練データ：`x_train`\n",
    "- `t`の訓練データ：`t_train`\n",
    "- `x`の検証データ：`x_val`\n",
    "- `t`の検証データ：`t_val`\n",
    "\n",
    "`val`は`validation`（検証）の略です。検証データの割合を全体の30%（0.3）とし、ランダムに分割します。下記のコードを実行するたびに異なるランダムでデータが分割されるのを防ぐために`random_state=3`を指定します。指定する数値は何でも構いませんが、同じ数値にしておくと同じ結果になりますので、今回は3にしておくことをオススメいたします。実行するたびに分割されるデータが変わらないように**再現性の確保**を行っております。各データの`shape`も確認しておきましょう。\n",
    "\n",
    "![holdout](images/holdout.png)"
   ]
  },
  {
   "cell_type": "code",
   "execution_count": 33,
   "metadata": {
    "colab": {
     "base_uri": "https://localhost:8080/",
     "height": 51
    },
    "colab_type": "code",
    "executionInfo": {
     "elapsed": 1154,
     "status": "ok",
     "timestamp": 1554871675145,
     "user": {
      "displayName": "西沢衛",
      "photoUrl": "",
      "userId": "12011220225445512117"
     },
     "user_tz": -540
    },
    "id": "sUEu-IpsyxyP",
    "outputId": "561702c0-2d6f-43ed-ff24-a46274cc00e1"
   },
   "outputs": [
    {
     "name": "stdout",
     "output_type": "stream",
     "text": [
      "訓練データ :  (2099, 4) (2099,)\n",
      "検証データ :  (900, 4) (900,)\n"
     ]
    }
   ],
   "source": [
    "x_train, x_val, t_train, t_val = train_test_split(x, t, test_size=0.3, random_state=3)\n",
    "print('訓練データ : ', x_train.shape, t_train.shape)\n",
    "print('検証データ : ', x_val.shape, t_val.shape)"
   ]
  },
  {
   "cell_type": "markdown",
   "metadata": {
    "colab_type": "text",
    "id": "QZH1dLiRyxyQ"
   },
   "source": [
    "行数を確認すると、7:3の割合で分割できていることがわかるかと思います。\n",
    "それでは、先程と同様にモデルの宣言から評価までを行いましょう。"
   ]
  },
  {
   "cell_type": "code",
   "execution_count": 34,
   "metadata": {
    "colab": {},
    "colab_type": "code",
    "id": "MLM5owF7yxyQ"
   },
   "outputs": [],
   "source": [
    "model = LinearRegression()"
   ]
  },
  {
   "cell_type": "markdown",
   "metadata": {
    "colab_type": "text",
    "id": "pGCh0qs_6eLP"
   },
   "source": [
    "学習には訓練データを用います。"
   ]
  },
  {
   "cell_type": "code",
   "execution_count": 35,
   "metadata": {
    "colab": {},
    "colab_type": "code",
    "id": "jBEOugTr6eLP",
    "outputId": "61181fe4-2b60-4c4f-afd0-4b363d1d2db0"
   },
   "outputs": [
    {
     "data": {
      "text/plain": [
       "LinearRegression(copy_X=True, fit_intercept=True, n_jobs=None, normalize=False)"
      ]
     },
     "execution_count": 35,
     "metadata": {},
     "output_type": "execute_result"
    }
   ],
   "source": [
    "model.fit(x_train, t_train)\n"
   ]
  },
  {
   "cell_type": "markdown",
   "metadata": {
    "colab_type": "text",
    "id": "p_6yLOCZyxyR"
   },
   "source": [
    "過学習が起きていないことを確認するために、モデルの評価は訓練データ、検証データの両方で行います。"
   ]
  },
  {
   "cell_type": "code",
   "execution_count": 36,
   "metadata": {
    "colab": {
     "base_uri": "https://localhost:8080/",
     "height": 34
    },
    "colab_type": "code",
    "executionInfo": {
     "elapsed": 807,
     "status": "ok",
     "timestamp": 1554871711809,
     "user": {
      "displayName": "西沢衛",
      "photoUrl": "",
      "userId": "12011220225445512117"
     },
     "user_tz": -540
    },
    "id": "JQziH0HDyxyR",
    "outputId": "8c77c37d-a9d4-4a04-8ae8-c77de5fdc8e2"
   },
   "outputs": [
    {
     "data": {
      "text/plain": [
       "0.7321075852483699"
      ]
     },
     "execution_count": 36,
     "metadata": {},
     "output_type": "execute_result"
    }
   ],
   "source": [
    "model.score(x_train, t_train)"
   ]
  },
  {
   "cell_type": "code",
   "execution_count": 37,
   "metadata": {
    "colab": {
     "base_uri": "https://localhost:8080/",
     "height": 34
    },
    "colab_type": "code",
    "executionInfo": {
     "elapsed": 690,
     "status": "ok",
     "timestamp": 1554871720813,
     "user": {
      "displayName": "西沢衛",
      "photoUrl": "",
      "userId": "12011220225445512117"
     },
     "user_tz": -540
    },
    "id": "lpm09xTqyxyS",
    "outputId": "a2ab38f1-1729-4995-ecae-df4249b3136d"
   },
   "outputs": [
    {
     "data": {
      "text/plain": [
       "0.7708749691316192"
      ]
     },
     "execution_count": 37,
     "metadata": {},
     "output_type": "execute_result"
    }
   ],
   "source": [
    "model.score(x_val, t_val)"
   ]
  },
  {
   "cell_type": "markdown",
   "metadata": {
    "colab_type": "text",
    "id": "Tz1jDG1RyxyT"
   },
   "source": [
    "訓練データと検証データへの決定係数の値がほぼ同じであるため、過学習が起きていないことがわかります。\n",
    "これで評価までの一連の流れはできました。最後に予測値をもとめましょう。"
   ]
  },
  {
   "cell_type": "markdown",
   "metadata": {},
   "source": [
    "#  いろいろなモデルを試してみましょう！"
   ]
  },
  {
   "cell_type": "markdown",
   "metadata": {},
   "source": [
    "### 色々なモデルかつ、色々な評価方法で試してみます。\n",
    "### 以下では、LinearRegression、Ridge回帰、決定木、サポートベクターマシンを比較します。"
   ]
  },
  {
   "cell_type": "code",
   "execution_count": null,
   "metadata": {},
   "outputs": [],
   "source": []
  }
 ],
 "metadata": {
  "colab": {
   "name": "1.3. 機械学習の基本.ipynb",
   "provenance": [],
   "version": "0.3.2"
  },
  "kernelspec": {
   "display_name": "Python 3",
   "language": "python",
   "name": "python3"
  },
  "language_info": {
   "codemirror_mode": {
    "name": "ipython",
    "version": 3
   },
   "file_extension": ".py",
   "mimetype": "text/x-python",
   "name": "python",
   "nbconvert_exporter": "python",
   "pygments_lexer": "ipython3",
   "version": "3.7.4"
  }
 },
 "nbformat": 4,
 "nbformat_minor": 1
}
