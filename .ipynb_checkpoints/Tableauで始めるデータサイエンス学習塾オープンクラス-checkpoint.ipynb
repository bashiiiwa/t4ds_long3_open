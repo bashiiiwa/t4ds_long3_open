{
 "cells": [
  {
   "cell_type": "markdown",
   "metadata": {
    "colab_type": "text",
    "id": "TPqvpUNb6eK_"
   },
   "source": [
    "# 【解答】Tableauで始めるデータサイエンス学習塾\n",
    "## WEEK3-機械学習の基礎\n"
   ]
  },
  {
   "cell_type": "markdown",
   "metadata": {},
   "source": [
    "今回は東京中古マンションのデータを利用します。「housing_tokyo_chuo_line_week3.csv」のデータが与えられているとして、まずはTableauで可視化をしてみましょう。\n",
    "\n",
    "\n",
    "こちらの資料は　**「Tableauデータサイエンス学習塾（全6回） 5/13 開催」** (https://ds4tableau-1.connpass.com/event/168438/) のクラス資料の一部です。\n",
    "\n",
    "講習では、データの理解、準備、予測モデル作成、予測結果の活用といったデータ活用のプロセスを包括的に体験し、自力でデータに立ち向かう力を身に付けます。\n",
    "\n",
    "___\n",
    "\n",
    "**§ワーク１：　マンションの価格に強く影響を与えている説明変数（特徴量）は何ですか？**  \n",
    "___\n",
    "\n"
   ]
  },
  {
   "cell_type": "code",
   "execution_count": 1,
   "metadata": {},
   "outputs": [
    {
     "data": {
      "text/html": [
       "<div class='tableauPlaceholder' id='viz1579748707019' style='position: relative'><noscript><a href='#'><img alt=' ' src='https:&#47;&#47;public.tableau.com&#47;static&#47;images&#47;To&#47;TokyoChuoLineHousingPrice&#47;TokyoChuoLineHouingPrice&#47;1_rss.png' style='border: none' /></a></noscript><object class='tableauViz'  style='display:none;'><param name='host_url' value='https%3A%2F%2Fpublic.tableau.com%2F' /> <param name='embed_code_version' value='3' /> <param name='site_root' value='' /><param name='name' value='TokyoChuoLineHousingPrice&#47;TokyoChuoLineHouingPrice' /><param name='tabs' value='no' /><param name='toolbar' value='yes' /><param name='static_image' value='https:&#47;&#47;public.tableau.com&#47;static&#47;images&#47;To&#47;TokyoChuoLineHousingPrice&#47;TokyoChuoLineHouingPrice&#47;1.png' /> <param name='animate_transition' value='yes' /><param name='display_static_image' value='yes' /><param name='display_spinner' value='yes' /><param name='display_overlay' value='yes' /><param name='display_count' value='yes' /><param name='filter' value='publish=yes' /></object></div>                <script type='text/javascript'>                    var divElement = document.getElementById('viz1579748707019');                    var vizElement = divElement.getElementsByTagName('object')[0];                    vizElement.style.width='100%';vizElement.style.height=(divElement.offsetWidth*0.5)+'px';                    var scriptElement = document.createElement('script');                    scriptElement.src = 'https://public.tableau.com/javascripts/api/viz_v1.js';                    vizElement.parentNode.insertBefore(scriptElement, vizElement);                </script>\n"
      ],
      "text/plain": [
       "<IPython.core.display.HTML object>"
      ]
     },
     "metadata": {},
     "output_type": "display_data"
    }
   ],
   "source": [
    "%%HTML\n",
    "<div class='tableauPlaceholder' id='viz1579748707019' style='position: relative'><noscript><a href='#'><img alt=' ' src='https:&#47;&#47;public.tableau.com&#47;static&#47;images&#47;To&#47;TokyoChuoLineHousingPrice&#47;TokyoChuoLineHouingPrice&#47;1_rss.png' style='border: none' /></a></noscript><object class='tableauViz'  style='display:none;'><param name='host_url' value='https%3A%2F%2Fpublic.tableau.com%2F' /> <param name='embed_code_version' value='3' /> <param name='site_root' value='' /><param name='name' value='TokyoChuoLineHousingPrice&#47;TokyoChuoLineHouingPrice' /><param name='tabs' value='no' /><param name='toolbar' value='yes' /><param name='static_image' value='https:&#47;&#47;public.tableau.com&#47;static&#47;images&#47;To&#47;TokyoChuoLineHousingPrice&#47;TokyoChuoLineHouingPrice&#47;1.png' /> <param name='animate_transition' value='yes' /><param name='display_static_image' value='yes' /><param name='display_spinner' value='yes' /><param name='display_overlay' value='yes' /><param name='display_count' value='yes' /><param name='filter' value='publish=yes' /></object></div>                <script type='text/javascript'>                    var divElement = document.getElementById('viz1579748707019');                    var vizElement = divElement.getElementsByTagName('object')[0];                    vizElement.style.width='100%';vizElement.style.height=(divElement.offsetWidth*0.5)+'px';                    var scriptElement = document.createElement('script');                    scriptElement.src = 'https://public.tableau.com/javascripts/api/viz_v1.js';                    vizElement.parentNode.insertBefore(scriptElement, vizElement);                </script>"
   ]
  },
  {
   "cell_type": "markdown",
   "metadata": {
    "colab_type": "text",
    "id": "PmZKwhpi6eK_"
   },
   "source": [
    "### scikit-learnで重回帰分析の実装\n",
    "#### scikit-learnとは\n",
    "\n",
    "scikit-learnとは、非常に便利なPythonの機械学習パッケージとなります。少ない行数、わかりやすいコードで機械学習を実装することができるため多くのユーザーに支持されています。Pythonの機械学習パッケージでは、デファクトスタンダードとなっております。"
   ]
  },
  {
   "cell_type": "markdown",
   "metadata": {
    "colab_type": "text",
    "id": "nz18NGyZ6eK_"
   },
   "source": [
    "#### データの準備\n",
    "pandasのところでも扱った、東京中古マンションのデータを読み込みましょう。"
   ]
  },
  {
   "cell_type": "code",
   "execution_count": 2,
   "metadata": {
    "colab": {},
    "colab_type": "code",
    "id": "AZdGtsnk6eK_"
   },
   "outputs": [],
   "source": [
    "#pandasをインポートします。\n",
    "\n",
    "import pandas as pd"
   ]
  },
  {
   "cell_type": "code",
   "execution_count": 3,
   "metadata": {},
   "outputs": [],
   "source": [
    "# データをインポートします。\n",
    "data = pd.read_csv(\"tokyo_housing_chuoline_simple.csv\")"
   ]
  },
  {
   "cell_type": "code",
   "execution_count": 4,
   "metadata": {},
   "outputs": [
    {
     "data": {
      "text/html": [
       "<div>\n",
       "<style scoped>\n",
       "    .dataframe tbody tr th:only-of-type {\n",
       "        vertical-align: middle;\n",
       "    }\n",
       "\n",
       "    .dataframe tbody tr th {\n",
       "        vertical-align: top;\n",
       "    }\n",
       "\n",
       "    .dataframe thead th {\n",
       "        text-align: right;\n",
       "    }\n",
       "</style>\n",
       "<table border=\"1\" class=\"dataframe\">\n",
       "  <thead>\n",
       "    <tr style=\"text-align: right;\">\n",
       "      <th></th>\n",
       "      <th>uid</th>\n",
       "      <th>years</th>\n",
       "      <th>minutes</th>\n",
       "      <th>sqrm</th>\n",
       "      <th>renovate</th>\n",
       "      <th>rooms</th>\n",
       "      <th>station</th>\n",
       "      <th>price</th>\n",
       "    </tr>\n",
       "  </thead>\n",
       "  <tbody>\n",
       "    <tr>\n",
       "      <td>0</td>\n",
       "      <td>13101-1</td>\n",
       "      <td>34</td>\n",
       "      <td>3</td>\n",
       "      <td>35</td>\n",
       "      <td>0</td>\n",
       "      <td>1LDK</td>\n",
       "      <td>飯田橋</td>\n",
       "      <td>24000000</td>\n",
       "    </tr>\n",
       "    <tr>\n",
       "      <td>1</td>\n",
       "      <td>13101-2</td>\n",
       "      <td>37</td>\n",
       "      <td>4</td>\n",
       "      <td>20</td>\n",
       "      <td>0</td>\n",
       "      <td>1K-1DK</td>\n",
       "      <td>飯田橋</td>\n",
       "      <td>13000000</td>\n",
       "    </tr>\n",
       "    <tr>\n",
       "      <td>2</td>\n",
       "      <td>13101-4</td>\n",
       "      <td>34</td>\n",
       "      <td>3</td>\n",
       "      <td>30</td>\n",
       "      <td>0</td>\n",
       "      <td>1K-1DK</td>\n",
       "      <td>飯田橋</td>\n",
       "      <td>22000000</td>\n",
       "    </tr>\n",
       "    <tr>\n",
       "      <td>3</td>\n",
       "      <td>13101-5</td>\n",
       "      <td>35</td>\n",
       "      <td>1</td>\n",
       "      <td>70</td>\n",
       "      <td>0</td>\n",
       "      <td>2LDK</td>\n",
       "      <td>飯田橋</td>\n",
       "      <td>69000000</td>\n",
       "    </tr>\n",
       "    <tr>\n",
       "      <td>4</td>\n",
       "      <td>13101-6</td>\n",
       "      <td>34</td>\n",
       "      <td>3</td>\n",
       "      <td>25</td>\n",
       "      <td>0</td>\n",
       "      <td>1K-1DK</td>\n",
       "      <td>飯田橋</td>\n",
       "      <td>21000000</td>\n",
       "    </tr>\n",
       "    <tr>\n",
       "      <td>...</td>\n",
       "      <td>...</td>\n",
       "      <td>...</td>\n",
       "      <td>...</td>\n",
       "      <td>...</td>\n",
       "      <td>...</td>\n",
       "      <td>...</td>\n",
       "      <td>...</td>\n",
       "      <td>...</td>\n",
       "    </tr>\n",
       "    <tr>\n",
       "      <td>2994</td>\n",
       "      <td>13214-847</td>\n",
       "      <td>19</td>\n",
       "      <td>4</td>\n",
       "      <td>20</td>\n",
       "      <td>0</td>\n",
       "      <td>1K-1DK</td>\n",
       "      <td>国分寺</td>\n",
       "      <td>17000000</td>\n",
       "    </tr>\n",
       "    <tr>\n",
       "      <td>2995</td>\n",
       "      <td>13214-848</td>\n",
       "      <td>21</td>\n",
       "      <td>1</td>\n",
       "      <td>80</td>\n",
       "      <td>0</td>\n",
       "      <td>3KUP</td>\n",
       "      <td>国分寺</td>\n",
       "      <td>65000000</td>\n",
       "    </tr>\n",
       "    <tr>\n",
       "      <td>2996</td>\n",
       "      <td>13214-849</td>\n",
       "      <td>21</td>\n",
       "      <td>1</td>\n",
       "      <td>65</td>\n",
       "      <td>0</td>\n",
       "      <td>2LDK</td>\n",
       "      <td>国分寺</td>\n",
       "      <td>42000000</td>\n",
       "    </tr>\n",
       "    <tr>\n",
       "      <td>2997</td>\n",
       "      <td>13214-850</td>\n",
       "      <td>15</td>\n",
       "      <td>3</td>\n",
       "      <td>25</td>\n",
       "      <td>0</td>\n",
       "      <td>1K-1DK</td>\n",
       "      <td>国分寺</td>\n",
       "      <td>19000000</td>\n",
       "    </tr>\n",
       "    <tr>\n",
       "      <td>2998</td>\n",
       "      <td>13214-851</td>\n",
       "      <td>14</td>\n",
       "      <td>2</td>\n",
       "      <td>20</td>\n",
       "      <td>0</td>\n",
       "      <td>1K-1DK</td>\n",
       "      <td>国分寺</td>\n",
       "      <td>14000000</td>\n",
       "    </tr>\n",
       "  </tbody>\n",
       "</table>\n",
       "<p>2999 rows × 8 columns</p>\n",
       "</div>"
      ],
      "text/plain": [
       "            uid  years  minutes  sqrm  renovate   rooms station     price\n",
       "0       13101-1     34        3    35         0    1LDK     飯田橋  24000000\n",
       "1       13101-2     37        4    20         0  1K-1DK     飯田橋  13000000\n",
       "2       13101-4     34        3    30         0  1K-1DK     飯田橋  22000000\n",
       "3       13101-5     35        1    70         0    2LDK     飯田橋  69000000\n",
       "4       13101-6     34        3    25         0  1K-1DK     飯田橋  21000000\n",
       "...         ...    ...      ...   ...       ...     ...     ...       ...\n",
       "2994  13214-847     19        4    20         0  1K-1DK     国分寺  17000000\n",
       "2995  13214-848     21        1    80         0    3KUP     国分寺  65000000\n",
       "2996  13214-849     21        1    65         0    2LDK     国分寺  42000000\n",
       "2997  13214-850     15        3    25         0  1K-1DK     国分寺  19000000\n",
       "2998  13214-851     14        2    20         0  1K-1DK     国分寺  14000000\n",
       "\n",
       "[2999 rows x 8 columns]"
      ]
     },
     "execution_count": 4,
     "metadata": {},
     "output_type": "execute_result"
    }
   ],
   "source": [
    "data"
   ]
  },
  {
   "cell_type": "code",
   "execution_count": 5,
   "metadata": {},
   "outputs": [
    {
     "data": {
      "text/html": [
       "<div>\n",
       "<style scoped>\n",
       "    .dataframe tbody tr th:only-of-type {\n",
       "        vertical-align: middle;\n",
       "    }\n",
       "\n",
       "    .dataframe tbody tr th {\n",
       "        vertical-align: top;\n",
       "    }\n",
       "\n",
       "    .dataframe thead th {\n",
       "        text-align: right;\n",
       "    }\n",
       "</style>\n",
       "<table border=\"1\" class=\"dataframe\">\n",
       "  <thead>\n",
       "    <tr style=\"text-align: right;\">\n",
       "      <th></th>\n",
       "      <th>years</th>\n",
       "      <th>minutes</th>\n",
       "      <th>sqrm</th>\n",
       "      <th>renovate</th>\n",
       "      <th>price</th>\n",
       "    </tr>\n",
       "  </thead>\n",
       "  <tbody>\n",
       "    <tr>\n",
       "      <td>0</td>\n",
       "      <td>34</td>\n",
       "      <td>3</td>\n",
       "      <td>35</td>\n",
       "      <td>0</td>\n",
       "      <td>24000000</td>\n",
       "    </tr>\n",
       "    <tr>\n",
       "      <td>1</td>\n",
       "      <td>37</td>\n",
       "      <td>4</td>\n",
       "      <td>20</td>\n",
       "      <td>0</td>\n",
       "      <td>13000000</td>\n",
       "    </tr>\n",
       "    <tr>\n",
       "      <td>2</td>\n",
       "      <td>34</td>\n",
       "      <td>3</td>\n",
       "      <td>30</td>\n",
       "      <td>0</td>\n",
       "      <td>22000000</td>\n",
       "    </tr>\n",
       "    <tr>\n",
       "      <td>3</td>\n",
       "      <td>35</td>\n",
       "      <td>1</td>\n",
       "      <td>70</td>\n",
       "      <td>0</td>\n",
       "      <td>69000000</td>\n",
       "    </tr>\n",
       "    <tr>\n",
       "      <td>4</td>\n",
       "      <td>34</td>\n",
       "      <td>3</td>\n",
       "      <td>25</td>\n",
       "      <td>0</td>\n",
       "      <td>21000000</td>\n",
       "    </tr>\n",
       "    <tr>\n",
       "      <td>...</td>\n",
       "      <td>...</td>\n",
       "      <td>...</td>\n",
       "      <td>...</td>\n",
       "      <td>...</td>\n",
       "      <td>...</td>\n",
       "    </tr>\n",
       "    <tr>\n",
       "      <td>2994</td>\n",
       "      <td>19</td>\n",
       "      <td>4</td>\n",
       "      <td>20</td>\n",
       "      <td>0</td>\n",
       "      <td>17000000</td>\n",
       "    </tr>\n",
       "    <tr>\n",
       "      <td>2995</td>\n",
       "      <td>21</td>\n",
       "      <td>1</td>\n",
       "      <td>80</td>\n",
       "      <td>0</td>\n",
       "      <td>65000000</td>\n",
       "    </tr>\n",
       "    <tr>\n",
       "      <td>2996</td>\n",
       "      <td>21</td>\n",
       "      <td>1</td>\n",
       "      <td>65</td>\n",
       "      <td>0</td>\n",
       "      <td>42000000</td>\n",
       "    </tr>\n",
       "    <tr>\n",
       "      <td>2997</td>\n",
       "      <td>15</td>\n",
       "      <td>3</td>\n",
       "      <td>25</td>\n",
       "      <td>0</td>\n",
       "      <td>19000000</td>\n",
       "    </tr>\n",
       "    <tr>\n",
       "      <td>2998</td>\n",
       "      <td>14</td>\n",
       "      <td>2</td>\n",
       "      <td>20</td>\n",
       "      <td>0</td>\n",
       "      <td>14000000</td>\n",
       "    </tr>\n",
       "  </tbody>\n",
       "</table>\n",
       "<p>2999 rows × 5 columns</p>\n",
       "</div>"
      ],
      "text/plain": [
       "      years  minutes  sqrm  renovate     price\n",
       "0        34        3    35         0  24000000\n",
       "1        37        4    20         0  13000000\n",
       "2        34        3    30         0  22000000\n",
       "3        35        1    70         0  69000000\n",
       "4        34        3    25         0  21000000\n",
       "...     ...      ...   ...       ...       ...\n",
       "2994     19        4    20         0  17000000\n",
       "2995     21        1    80         0  65000000\n",
       "2996     21        1    65         0  42000000\n",
       "2997     15        3    25         0  19000000\n",
       "2998     14        2    20         0  14000000\n",
       "\n",
       "[2999 rows x 5 columns]"
      ]
     },
     "execution_count": 5,
     "metadata": {},
     "output_type": "execute_result"
    }
   ],
   "source": [
    "## uidは予測に必要がないので削除しましょう。\n",
    "df = data[['years','minutes','sqrm','renovate','price']]\n",
    "df\n"
   ]
  },
  {
   "cell_type": "code",
   "execution_count": 6,
   "metadata": {},
   "outputs": [],
   "source": [
    "# 相関行列を書いてみよう　\n",
    "#おまじない\n",
    "#!pip install seaborn\n",
    "#!pip install matplotlib\n"
   ]
  },
  {
   "cell_type": "code",
   "execution_count": 7,
   "metadata": {},
   "outputs": [
    {
     "data": {
      "text/plain": [
       "<matplotlib.axes._subplots.AxesSubplot at 0x1cac4ce0448>"
      ]
     },
     "execution_count": 7,
     "metadata": {},
     "output_type": "execute_result"
    },
    {
     "data": {
      "image/png": "[encoded data removed]",
      "text/plain": [
       "<Figure size 504x504 with 2 Axes>"
      ]
     },
     "metadata": {
      "needs_background": "light"
     },
     "output_type": "display_data"
    }
   ],
   "source": [
    "# 相関行列を書いてみよう　→　ここはこのまま実行しましょう！\n",
    "%matplotlib inline\n",
    "import seaborn as sns\n",
    "import matplotlib.pyplot as plt\n",
    "\n",
    "colormap = plt.cm.RdBu\n",
    "plt.figure(figsize=(7,7))\n",
    "plt.title('Pearson Correlation of Features', y=1.05, size=15)\n",
    "sns.heatmap(df.astype(float).corr(),linewidths=0.1,vmax=1.0, \n",
    "            square=True, cmap=colormap, linecolor='white', annot=True)"
   ]
  },
  {
   "cell_type": "code",
   "execution_count": 8,
   "metadata": {},
   "outputs": [
    {
     "data": {
      "text/html": [
       "<div>\n",
       "<style scoped>\n",
       "    .dataframe tbody tr th:only-of-type {\n",
       "        vertical-align: middle;\n",
       "    }\n",
       "\n",
       "    .dataframe tbody tr th {\n",
       "        vertical-align: top;\n",
       "    }\n",
       "\n",
       "    .dataframe thead th {\n",
       "        text-align: right;\n",
       "    }\n",
       "</style>\n",
       "<table border=\"1\" class=\"dataframe\">\n",
       "  <thead>\n",
       "    <tr style=\"text-align: right;\">\n",
       "      <th></th>\n",
       "      <th>years</th>\n",
       "      <th>minutes</th>\n",
       "      <th>sqrm</th>\n",
       "      <th>renovate</th>\n",
       "      <th>price</th>\n",
       "    </tr>\n",
       "  </thead>\n",
       "  <tbody>\n",
       "    <tr>\n",
       "      <td>years</td>\n",
       "      <td>1.000000</td>\n",
       "      <td>0.047812</td>\n",
       "      <td>-0.112391</td>\n",
       "      <td>0.256618</td>\n",
       "      <td>-0.415257</td>\n",
       "    </tr>\n",
       "    <tr>\n",
       "      <td>minutes</td>\n",
       "      <td>0.047812</td>\n",
       "      <td>1.000000</td>\n",
       "      <td>0.214809</td>\n",
       "      <td>0.059976</td>\n",
       "      <td>-0.122011</td>\n",
       "    </tr>\n",
       "    <tr>\n",
       "      <td>sqrm</td>\n",
       "      <td>-0.112391</td>\n",
       "      <td>0.214809</td>\n",
       "      <td>1.000000</td>\n",
       "      <td>0.089781</td>\n",
       "      <td>0.747606</td>\n",
       "    </tr>\n",
       "    <tr>\n",
       "      <td>renovate</td>\n",
       "      <td>0.256618</td>\n",
       "      <td>0.059976</td>\n",
       "      <td>0.089781</td>\n",
       "      <td>1.000000</td>\n",
       "      <td>0.029174</td>\n",
       "    </tr>\n",
       "    <tr>\n",
       "      <td>price</td>\n",
       "      <td>-0.415257</td>\n",
       "      <td>-0.122011</td>\n",
       "      <td>0.747606</td>\n",
       "      <td>0.029174</td>\n",
       "      <td>1.000000</td>\n",
       "    </tr>\n",
       "  </tbody>\n",
       "</table>\n",
       "</div>"
      ],
      "text/plain": [
       "             years   minutes      sqrm  renovate     price\n",
       "years     1.000000  0.047812 -0.112391  0.256618 -0.415257\n",
       "minutes   0.047812  1.000000  0.214809  0.059976 -0.122011\n",
       "sqrm     -0.112391  0.214809  1.000000  0.089781  0.747606\n",
       "renovate  0.256618  0.059976  0.089781  1.000000  0.029174\n",
       "price    -0.415257 -0.122011  0.747606  0.029174  1.000000"
      ]
     },
     "execution_count": 8,
     "metadata": {},
     "output_type": "execute_result"
    }
   ],
   "source": [
    "# テキストベースでよいならこのコマンド一発でOK!\n",
    "df.corr()"
   ]
  },
  {
   "cell_type": "markdown",
   "metadata": {},
   "source": [
    "___\n",
    "\n",
    "**§ワーク2：　相関行列を見て、マンションの価格に強く影響を与えている説明変数（特徴量）は何だと思いますか？Tableau による散布図と比べてどんなことがわかりますか？　ディスカッションしてみてください。**  \n",
    "___"
   ]
  },
  {
   "cell_type": "markdown",
   "metadata": {
    "colab_type": "text",
    "id": "OrIlr1fk6eLB"
   },
   "source": [
    "## 予測モデルを作る\n",
    "\n",
    "教師アリ学習での予測モデル作成の流れは以下のようになります。\n",
    "![教師アリ](images/教師アリ学習.png)\n",
    "\n",
    "予測モデルを作るために初めにすることは、「説明変数 x」と「目的変数 t」を分けることです。\n",
    "まずは、入力変数`x`と出力変数`t`に分けておきましょう。分割には`iloc[]`を用います。"
   ]
  },
  {
   "cell_type": "code",
   "execution_count": 9,
   "metadata": {},
   "outputs": [
    {
     "data": {
      "text/html": [
       "<div>\n",
       "<style scoped>\n",
       "    .dataframe tbody tr th:only-of-type {\n",
       "        vertical-align: middle;\n",
       "    }\n",
       "\n",
       "    .dataframe tbody tr th {\n",
       "        vertical-align: top;\n",
       "    }\n",
       "\n",
       "    .dataframe thead th {\n",
       "        text-align: right;\n",
       "    }\n",
       "</style>\n",
       "<table border=\"1\" class=\"dataframe\">\n",
       "  <thead>\n",
       "    <tr style=\"text-align: right;\">\n",
       "      <th></th>\n",
       "      <th>years</th>\n",
       "      <th>minutes</th>\n",
       "      <th>sqrm</th>\n",
       "      <th>renovate</th>\n",
       "      <th>price</th>\n",
       "    </tr>\n",
       "  </thead>\n",
       "  <tbody>\n",
       "    <tr>\n",
       "      <td>0</td>\n",
       "      <td>34</td>\n",
       "      <td>3</td>\n",
       "      <td>35</td>\n",
       "      <td>0</td>\n",
       "      <td>24000000</td>\n",
       "    </tr>\n",
       "    <tr>\n",
       "      <td>1</td>\n",
       "      <td>37</td>\n",
       "      <td>4</td>\n",
       "      <td>20</td>\n",
       "      <td>0</td>\n",
       "      <td>13000000</td>\n",
       "    </tr>\n",
       "    <tr>\n",
       "      <td>2</td>\n",
       "      <td>34</td>\n",
       "      <td>3</td>\n",
       "      <td>30</td>\n",
       "      <td>0</td>\n",
       "      <td>22000000</td>\n",
       "    </tr>\n",
       "    <tr>\n",
       "      <td>3</td>\n",
       "      <td>35</td>\n",
       "      <td>1</td>\n",
       "      <td>70</td>\n",
       "      <td>0</td>\n",
       "      <td>69000000</td>\n",
       "    </tr>\n",
       "    <tr>\n",
       "      <td>4</td>\n",
       "      <td>34</td>\n",
       "      <td>3</td>\n",
       "      <td>25</td>\n",
       "      <td>0</td>\n",
       "      <td>21000000</td>\n",
       "    </tr>\n",
       "    <tr>\n",
       "      <td>...</td>\n",
       "      <td>...</td>\n",
       "      <td>...</td>\n",
       "      <td>...</td>\n",
       "      <td>...</td>\n",
       "      <td>...</td>\n",
       "    </tr>\n",
       "    <tr>\n",
       "      <td>2994</td>\n",
       "      <td>19</td>\n",
       "      <td>4</td>\n",
       "      <td>20</td>\n",
       "      <td>0</td>\n",
       "      <td>17000000</td>\n",
       "    </tr>\n",
       "    <tr>\n",
       "      <td>2995</td>\n",
       "      <td>21</td>\n",
       "      <td>1</td>\n",
       "      <td>80</td>\n",
       "      <td>0</td>\n",
       "      <td>65000000</td>\n",
       "    </tr>\n",
       "    <tr>\n",
       "      <td>2996</td>\n",
       "      <td>21</td>\n",
       "      <td>1</td>\n",
       "      <td>65</td>\n",
       "      <td>0</td>\n",
       "      <td>42000000</td>\n",
       "    </tr>\n",
       "    <tr>\n",
       "      <td>2997</td>\n",
       "      <td>15</td>\n",
       "      <td>3</td>\n",
       "      <td>25</td>\n",
       "      <td>0</td>\n",
       "      <td>19000000</td>\n",
       "    </tr>\n",
       "    <tr>\n",
       "      <td>2998</td>\n",
       "      <td>14</td>\n",
       "      <td>2</td>\n",
       "      <td>20</td>\n",
       "      <td>0</td>\n",
       "      <td>14000000</td>\n",
       "    </tr>\n",
       "  </tbody>\n",
       "</table>\n",
       "<p>2999 rows × 5 columns</p>\n",
       "</div>"
      ],
      "text/plain": [
       "      years  minutes  sqrm  renovate     price\n",
       "0        34        3    35         0  24000000\n",
       "1        37        4    20         0  13000000\n",
       "2        34        3    30         0  22000000\n",
       "3        35        1    70         0  69000000\n",
       "4        34        3    25         0  21000000\n",
       "...     ...      ...   ...       ...       ...\n",
       "2994     19        4    20         0  17000000\n",
       "2995     21        1    80         0  65000000\n",
       "2996     21        1    65         0  42000000\n",
       "2997     15        3    25         0  19000000\n",
       "2998     14        2    20         0  14000000\n",
       "\n",
       "[2999 rows x 5 columns]"
      ]
     },
     "execution_count": 9,
     "metadata": {},
     "output_type": "execute_result"
    }
   ],
   "source": [
    "#データフレーム df には何が入っているか確認します。　→　何が目的変数ですか？\n",
    "\n",
    "df"
   ]
  },
  {
   "cell_type": "code",
   "execution_count": 10,
   "metadata": {
    "colab": {},
    "colab_type": "code",
    "id": "t-aCuMqp6eLB"
   },
   "outputs": [],
   "source": [
    "#priceは除く\n",
    "x = df.iloc[:, :-1] \n",
    "\n",
    "#priceだけ保持する\n",
    "t = df.iloc[:, -1] "
   ]
  },
  {
   "cell_type": "markdown",
   "metadata": {
    "colab_type": "text",
    "id": "BrvruFgO6eLC"
   },
   "source": [
    "#### scikit-learnのimport\n",
    "データの準備ができたのでscikit-learnをimportしましょう。scikit-learnは`sklearn`という名前でimportしますが、今回は`sklearn`の中の`linear_model`（線形モデル）の中の`LinearRegression`（線形回帰）をimportします。つまり、重回帰分析を実装するための機能をピンポイントでimportするイメージです。"
   ]
  },
  {
   "cell_type": "code",
   "execution_count": 11,
   "metadata": {
    "colab": {},
    "colab_type": "code",
    "id": "nFu6pZcO6eLD"
   },
   "outputs": [],
   "source": [
    "# Linear Regression の　インポート\n",
    "from sklearn.linear_model import LinearRegression"
   ]
  },
  {
   "cell_type": "markdown",
   "metadata": {
    "colab_type": "text",
    "id": "DOHjOvfKyxyF"
   },
   "source": [
    "#### モデルの宣言\n",
    "\n",
    "まずは、モデル（手法）の宣言を行います。先程importした`LinearRegression()`を`model`という変数に代入してあげます。厳密には「クラスのインスタンス化」というものにあたりますが、気になる方は調べてみてください。"
   ]
  },
  {
   "cell_type": "code",
   "execution_count": 12,
   "metadata": {
    "colab": {},
    "colab_type": "code",
    "id": "P5pmzS5VyxyF"
   },
   "outputs": [],
   "source": [
    "# ①モデルの宣言\n",
    "model = LinearRegression()"
   ]
  },
  {
   "cell_type": "markdown",
   "metadata": {
    "colab_type": "text",
    "id": "G1MNAb0MyxyI"
   },
   "source": [
    "#### モデルの学習\n",
    "\n",
    "モデルの宣言後、**モデルの学習**を行います。モデルの学習とは、手持ちのデータを用いて適切なパラーメータを求めることです。"
   ]
  },
  {
   "cell_type": "code",
   "execution_count": 13,
   "metadata": {
    "colab": {
     "base_uri": "https://localhost:8080/",
     "height": 51
    },
    "colab_type": "code",
    "executionInfo": {
     "elapsed": 1404,
     "status": "ok",
     "timestamp": 1554871546228,
     "user": {
      "displayName": "西沢衛",
      "photoUrl": "",
      "userId": "12011220225445512117"
     },
     "user_tz": -540
    },
    "id": "-Eorr9D8yxyI",
    "outputId": "f7db9c83-0681-4672-c5e2-3df8fcf4ee28"
   },
   "outputs": [
    {
     "data": {
      "text/plain": [
       "LinearRegression(copy_X=True, fit_intercept=True, n_jobs=None, normalize=False)"
      ]
     },
     "execution_count": 13,
     "metadata": {},
     "output_type": "execute_result"
    }
   ],
   "source": [
    "# ②モデルの学習\n",
    "model.fit(x, t)"
   ]
  },
  {
   "cell_type": "markdown",
   "metadata": {
    "colab_type": "text",
    "id": "vcLmuCjqyxyK"
   },
   "source": [
    "#### モデルの評価\n",
    "\n",
    "学習後のモデルを評価しましょう。モデルの評価には決定係数という指標を用います。  決定係数とは、モデルの当てはまりの良さを0から1までの値で表す指標になります。 1に近い方がより良いモデルを表しています。`score()`で評価することができます。評価するには、データも一緒に渡す必要があるため()内に、`x`と`t`を入れております。"
   ]
  },
  {
   "cell_type": "code",
   "execution_count": 14,
   "metadata": {
    "colab": {
     "base_uri": "https://localhost:8080/",
     "height": 34
    },
    "colab_type": "code",
    "executionInfo": {
     "elapsed": 660,
     "status": "ok",
     "timestamp": 1554871548393,
     "user": {
      "displayName": "西沢衛",
      "photoUrl": "",
      "userId": "12011220225445512117"
     },
     "user_tz": -540
    },
    "id": "QaXozWyWyxyK",
    "outputId": "17782d2b-f6e8-407a-b0fd-fe072e8ed28d"
   },
   "outputs": [
    {
     "data": {
      "text/plain": [
       "0.744030133098094"
      ]
     },
     "execution_count": 14,
     "metadata": {},
     "output_type": "execute_result"
    }
   ],
   "source": [
    "# モデルの評価\n",
    "model.score(x, t)"
   ]
  },
  {
   "cell_type": "markdown",
   "metadata": {
    "colab_type": "text",
    "id": "Bz_PENUhyxyN"
   },
   "source": [
    "xxxx　という数値が出てきました。最大が1であることを考えると思ったより悪くはない数字かと思います。\n",
    "\n",
    "> 補足：回帰と分類によって、`score()`を使用したときの評価指標が異なります。 分類は正解率（Accuracy）が評価指標になります。\n",
    "> - 回帰：決定係数  \n",
    "> - 分類：正解率（Accuracy）\n",
    "\n",
    "決定係数とは？？\n",
    "\n"
   ]
  },
  {
   "cell_type": "code",
   "execution_count": 15,
   "metadata": {},
   "outputs": [],
   "source": [
    "#③予測値をゲットしてみましょう。\n",
    "p = model.predict(x)\n",
    "\n",
    "#データフレームに変換します。\n",
    "p = pd.DataFrame(p,columns=['predict'])"
   ]
  },
  {
   "cell_type": "code",
   "execution_count": 16,
   "metadata": {},
   "outputs": [
    {
     "data": {
      "text/html": [
       "<div>\n",
       "<style scoped>\n",
       "    .dataframe tbody tr th:only-of-type {\n",
       "        vertical-align: middle;\n",
       "    }\n",
       "\n",
       "    .dataframe tbody tr th {\n",
       "        vertical-align: top;\n",
       "    }\n",
       "\n",
       "    .dataframe thead th {\n",
       "        text-align: right;\n",
       "    }\n",
       "</style>\n",
       "<table border=\"1\" class=\"dataframe\">\n",
       "  <thead>\n",
       "    <tr style=\"text-align: right;\">\n",
       "      <th></th>\n",
       "      <th>uid</th>\n",
       "      <th>years</th>\n",
       "      <th>minutes</th>\n",
       "      <th>sqrm</th>\n",
       "      <th>renovate</th>\n",
       "      <th>rooms</th>\n",
       "      <th>station</th>\n",
       "      <th>price</th>\n",
       "      <th>predict</th>\n",
       "    </tr>\n",
       "  </thead>\n",
       "  <tbody>\n",
       "    <tr>\n",
       "      <td>0</td>\n",
       "      <td>13101-1</td>\n",
       "      <td>34</td>\n",
       "      <td>3</td>\n",
       "      <td>35</td>\n",
       "      <td>0</td>\n",
       "      <td>1LDK</td>\n",
       "      <td>飯田橋</td>\n",
       "      <td>24000000</td>\n",
       "      <td>2.598788e+07</td>\n",
       "    </tr>\n",
       "    <tr>\n",
       "      <td>1</td>\n",
       "      <td>13101-2</td>\n",
       "      <td>37</td>\n",
       "      <td>4</td>\n",
       "      <td>20</td>\n",
       "      <td>0</td>\n",
       "      <td>1K-1DK</td>\n",
       "      <td>飯田橋</td>\n",
       "      <td>13000000</td>\n",
       "      <td>1.211801e+07</td>\n",
       "    </tr>\n",
       "    <tr>\n",
       "      <td>2</td>\n",
       "      <td>13101-4</td>\n",
       "      <td>34</td>\n",
       "      <td>3</td>\n",
       "      <td>30</td>\n",
       "      <td>0</td>\n",
       "      <td>1K-1DK</td>\n",
       "      <td>飯田橋</td>\n",
       "      <td>22000000</td>\n",
       "      <td>2.225874e+07</td>\n",
       "    </tr>\n",
       "    <tr>\n",
       "      <td>3</td>\n",
       "      <td>13101-5</td>\n",
       "      <td>35</td>\n",
       "      <td>1</td>\n",
       "      <td>70</td>\n",
       "      <td>0</td>\n",
       "      <td>2LDK</td>\n",
       "      <td>飯田橋</td>\n",
       "      <td>69000000</td>\n",
       "      <td>5.356776e+07</td>\n",
       "    </tr>\n",
       "    <tr>\n",
       "      <td>4</td>\n",
       "      <td>13101-6</td>\n",
       "      <td>34</td>\n",
       "      <td>3</td>\n",
       "      <td>25</td>\n",
       "      <td>0</td>\n",
       "      <td>1K-1DK</td>\n",
       "      <td>飯田橋</td>\n",
       "      <td>21000000</td>\n",
       "      <td>1.852960e+07</td>\n",
       "    </tr>\n",
       "    <tr>\n",
       "      <td>...</td>\n",
       "      <td>...</td>\n",
       "      <td>...</td>\n",
       "      <td>...</td>\n",
       "      <td>...</td>\n",
       "      <td>...</td>\n",
       "      <td>...</td>\n",
       "      <td>...</td>\n",
       "      <td>...</td>\n",
       "      <td>...</td>\n",
       "    </tr>\n",
       "    <tr>\n",
       "      <td>2994</td>\n",
       "      <td>13214-847</td>\n",
       "      <td>19</td>\n",
       "      <td>4</td>\n",
       "      <td>20</td>\n",
       "      <td>0</td>\n",
       "      <td>1K-1DK</td>\n",
       "      <td>国分寺</td>\n",
       "      <td>17000000</td>\n",
       "      <td>2.211829e+07</td>\n",
       "    </tr>\n",
       "    <tr>\n",
       "      <td>2995</td>\n",
       "      <td>13214-848</td>\n",
       "      <td>21</td>\n",
       "      <td>1</td>\n",
       "      <td>80</td>\n",
       "      <td>0</td>\n",
       "      <td>3KUP</td>\n",
       "      <td>国分寺</td>\n",
       "      <td>65000000</td>\n",
       "      <td>6.880403e+07</td>\n",
       "    </tr>\n",
       "    <tr>\n",
       "      <td>2996</td>\n",
       "      <td>13214-849</td>\n",
       "      <td>21</td>\n",
       "      <td>1</td>\n",
       "      <td>65</td>\n",
       "      <td>0</td>\n",
       "      <td>2LDK</td>\n",
       "      <td>国分寺</td>\n",
       "      <td>42000000</td>\n",
       "      <td>5.761662e+07</td>\n",
       "    </tr>\n",
       "    <tr>\n",
       "      <td>2997</td>\n",
       "      <td>13214-850</td>\n",
       "      <td>15</td>\n",
       "      <td>3</td>\n",
       "      <td>25</td>\n",
       "      <td>0</td>\n",
       "      <td>1K-1DK</td>\n",
       "      <td>国分寺</td>\n",
       "      <td>19000000</td>\n",
       "      <td>2.908545e+07</td>\n",
       "    </tr>\n",
       "    <tr>\n",
       "      <td>2998</td>\n",
       "      <td>13214-851</td>\n",
       "      <td>14</td>\n",
       "      <td>2</td>\n",
       "      <td>20</td>\n",
       "      <td>0</td>\n",
       "      <td>1K-1DK</td>\n",
       "      <td>国分寺</td>\n",
       "      <td>14000000</td>\n",
       "      <td>2.692762e+07</td>\n",
       "    </tr>\n",
       "  </tbody>\n",
       "</table>\n",
       "<p>2999 rows × 9 columns</p>\n",
       "</div>"
      ],
      "text/plain": [
       "            uid  years  minutes  sqrm  renovate   rooms station     price  \\\n",
       "0       13101-1     34        3    35         0    1LDK     飯田橋  24000000   \n",
       "1       13101-2     37        4    20         0  1K-1DK     飯田橋  13000000   \n",
       "2       13101-4     34        3    30         0  1K-1DK     飯田橋  22000000   \n",
       "3       13101-5     35        1    70         0    2LDK     飯田橋  69000000   \n",
       "4       13101-6     34        3    25         0  1K-1DK     飯田橋  21000000   \n",
       "...         ...    ...      ...   ...       ...     ...     ...       ...   \n",
       "2994  13214-847     19        4    20         0  1K-1DK     国分寺  17000000   \n",
       "2995  13214-848     21        1    80         0    3KUP     国分寺  65000000   \n",
       "2996  13214-849     21        1    65         0    2LDK     国分寺  42000000   \n",
       "2997  13214-850     15        3    25         0  1K-1DK     国分寺  19000000   \n",
       "2998  13214-851     14        2    20         0  1K-1DK     国分寺  14000000   \n",
       "\n",
       "           predict  \n",
       "0     2.598788e+07  \n",
       "1     1.211801e+07  \n",
       "2     2.225874e+07  \n",
       "3     5.356776e+07  \n",
       "4     1.852960e+07  \n",
       "...            ...  \n",
       "2994  2.211829e+07  \n",
       "2995  6.880403e+07  \n",
       "2996  5.761662e+07  \n",
       "2997  2.908545e+07  \n",
       "2998  2.692762e+07  \n",
       "\n",
       "[2999 rows x 9 columns]"
      ]
     },
     "execution_count": 16,
     "metadata": {},
     "output_type": "execute_result"
    }
   ],
   "source": [
    "#オリジナルのデータと連結します。\n",
    "results = pd.concat([data,p],axis=1)\n",
    "results"
   ]
  },
  {
   "cell_type": "code",
   "execution_count": 17,
   "metadata": {},
   "outputs": [],
   "source": [
    "#一度CSVに落としましょう。一度Tableauに戻って評価してみましょう。\n",
    "results.to_csv(\"results.LinearRegression.csv\")"
   ]
  },
  {
   "cell_type": "markdown",
   "metadata": {},
   "source": [
    "### ワーク　実績PRICEとPREDICTの差を誤差として、東京駅からの距離（つまり駅）ごとに誤差がどのように分布するか確認してください。そして誤差が多い駅はどこかディスカッションしてみてください。"
   ]
  },
  {
   "cell_type": "code",
   "execution_count": 18,
   "metadata": {},
   "outputs": [
    {
     "data": {
      "text/html": [
       "<div class='tableauPlaceholder' id='viz1579753119257' style='position: relative'><noscript><a href='#'><img alt=' ' src='https:&#47;&#47;public.tableau.com&#47;static&#47;images&#47;To&#47;TokyoChuoLineHousingPrice&#47;sheet2&#47;1_rss.png' style='border: none' /></a></noscript><object class='tableauViz'  style='display:none;'><param name='host_url' value='https%3A%2F%2Fpublic.tableau.com%2F' /> <param name='embed_code_version' value='3' /> <param name='site_root' value='' /><param name='name' value='TokyoChuoLineHousingPrice&#47;sheet2' /><param name='tabs' value='yes' /><param name='toolbar' value='yes' /><param name='static_image' value='https:&#47;&#47;public.tableau.com&#47;static&#47;images&#47;To&#47;TokyoChuoLineHousingPrice&#47;sheet2&#47;1.png' /> <param name='animate_transition' value='yes' /><param name='display_static_image' value='yes' /><param name='display_spinner' value='yes' /><param name='display_overlay' value='yes' /><param name='display_count' value='yes' /><param name='filter' value='publish=yes' /></object></div>                <script type='text/javascript'>                    var divElement = document.getElementById('viz1579753119257');                    var vizElement = divElement.getElementsByTagName('object')[0];                    vizElement.style.width='100%';vizElement.style.height=(divElement.offsetWidth*0.75)+'px';                    var scriptElement = document.createElement('script');                    scriptElement.src = 'https://public.tableau.com/javascripts/api/viz_v1.js';                    vizElement.parentNode.insertBefore(scriptElement, vizElement);                </script>\n"
      ],
      "text/plain": [
       "<IPython.core.display.HTML object>"
      ]
     },
     "metadata": {},
     "output_type": "display_data"
    }
   ],
   "source": [
    "%%HTML\n",
    "<div class='tableauPlaceholder' id='viz1579753119257' style='position: relative'><noscript><a href='#'><img alt=' ' src='https:&#47;&#47;public.tableau.com&#47;static&#47;images&#47;To&#47;TokyoChuoLineHousingPrice&#47;sheet2&#47;1_rss.png' style='border: none' /></a></noscript><object class='tableauViz'  style='display:none;'><param name='host_url' value='https%3A%2F%2Fpublic.tableau.com%2F' /> <param name='embed_code_version' value='3' /> <param name='site_root' value='' /><param name='name' value='TokyoChuoLineHousingPrice&#47;sheet2' /><param name='tabs' value='yes' /><param name='toolbar' value='yes' /><param name='static_image' value='https:&#47;&#47;public.tableau.com&#47;static&#47;images&#47;To&#47;TokyoChuoLineHousingPrice&#47;sheet2&#47;1.png' /> <param name='animate_transition' value='yes' /><param name='display_static_image' value='yes' /><param name='display_spinner' value='yes' /><param name='display_overlay' value='yes' /><param name='display_count' value='yes' /><param name='filter' value='publish=yes' /></object></div>                <script type='text/javascript'>                    var divElement = document.getElementById('viz1579753119257');                    var vizElement = divElement.getElementsByTagName('object')[0];                    vizElement.style.width='100%';vizElement.style.height=(divElement.offsetWidth*0.75)+'px';                    var scriptElement = document.createElement('script');                    scriptElement.src = 'https://public.tableau.com/javascripts/api/viz_v1.js';                    vizElement.parentNode.insertBefore(scriptElement, vizElement);                </script>"
   ]
  },
  {
   "cell_type": "code",
   "execution_count": 19,
   "metadata": {},
   "outputs": [],
   "source": [
    "# sklearn から mean_squared_error をインポートします。\n",
    "from sklearn.metrics import mean_squared_error\n",
    "import math"
   ]
  },
  {
   "cell_type": "code",
   "execution_count": 20,
   "metadata": {},
   "outputs": [
    {
     "name": "stdout",
     "output_type": "stream",
     "text": [
      "RMSE: 11064614.370097617\n"
     ]
    }
   ],
   "source": [
    "#RMSEを計算します。\n",
    "mse = mean_squared_error(t, p)\n",
    "print('RMSE:', math.sqrt(mse))"
   ]
  },
  {
   "cell_type": "markdown",
   "metadata": {},
   "source": [
    "RMSEとは、Root Mean Square Error（二乗平均平方根誤差）の略で、回帰モデルの最も一般的な性能指標で以下の式で表現されます。\n",
    "参考　https://aizine.ai/rmse-rmsle1114/#toc1\n",
    "![RMSE](images/RMSE.png)"
   ]
  },
  {
   "cell_type": "markdown",
   "metadata": {},
   "source": [
    "## Webからスクレイピングしてきたデータを入力として、予測値を出してみましょう。\n",
    "\n",
    "以下のデータは不動産Webページからスクレイピングしてきたデータです。　これは学習に利用した国土交通省のデータには含まれていませんので、絶対に学習に使っていないデータです。\n",
    "\n",
    "国土交通省データで学習したモデルに、Webスクレイピングしたデータを入力して予測値を得ましょう。\n",
    "\n",
    "RMSEを使ってモデルの精度を確認しましょう。\n",
    "\n",
    "Tableau を使って特に誤差が大きく発生している原因を考えましょう。\n",
    "\n",
    "追加すると良いと思われる特徴量を考えてみましょう。\n"
   ]
  },
  {
   "cell_type": "code",
   "execution_count": 38,
   "metadata": {},
   "outputs": [],
   "source": [
    "\n",
    "# スクレイピングデータをインポートします。\n",
    "data_scraping = pd.read_csv(\"HOMES_SCRAPING_ChuoLine_lat_long-UTF8.csv\")"
   ]
  },
  {
   "cell_type": "code",
   "execution_count": 39,
   "metadata": {},
   "outputs": [
    {
     "data": {
      "text/html": [
       "<div>\n",
       "<style scoped>\n",
       "    .dataframe tbody tr th:only-of-type {\n",
       "        vertical-align: middle;\n",
       "    }\n",
       "\n",
       "    .dataframe tbody tr th {\n",
       "        vertical-align: top;\n",
       "    }\n",
       "\n",
       "    .dataframe thead th {\n",
       "        text-align: right;\n",
       "    }\n",
       "</style>\n",
       "<table border=\"1\" class=\"dataframe\">\n",
       "  <thead>\n",
       "    <tr style=\"text-align: right;\">\n",
       "      <th></th>\n",
       "      <th>id</th>\n",
       "      <th>bukkenName</th>\n",
       "      <th>years</th>\n",
       "      <th>minutes</th>\n",
       "      <th>sqrm</th>\n",
       "      <th>distance</th>\n",
       "      <th>renovate</th>\n",
       "      <th>express</th>\n",
       "      <th>price</th>\n",
       "      <th>rooms</th>\n",
       "      <th>...</th>\n",
       "      <th>displayPic -https</th>\n",
       "      <th>raSpecRow</th>\n",
       "      <th>relatedKeywordsData</th>\n",
       "      <th>relatedKeywordsData 2</th>\n",
       "      <th>relatedKeywordsData 3</th>\n",
       "      <th>relatedKeywordsData 4</th>\n",
       "      <th>textFeatureComment</th>\n",
       "      <th>relatedKeywordsData 5</th>\n",
       "      <th>緯度</th>\n",
       "      <th>経度</th>\n",
       "    </tr>\n",
       "  </thead>\n",
       "  <tbody>\n",
       "    <tr>\n",
       "      <td>0</td>\n",
       "      <td>1</td>\n",
       "      <td>九段フラワーホーム</td>\n",
       "      <td>41</td>\n",
       "      <td>5</td>\n",
       "      <td>42.14</td>\n",
       "      <td>2.960148</td>\n",
       "      <td>1</td>\n",
       "      <td>0</td>\n",
       "      <td>4480</td>\n",
       "      <td>1LDK</td>\n",
       "      <td>...</td>\n",
       "      <td>https://image.homes.jp/smallimg/image.php?file...</td>\n",
       "      <td>11</td>\n",
       "      <td>駐車場あり</td>\n",
       "      <td>エレベーター</td>\n",
       "      <td>最上階</td>\n",
       "      <td>スーパー800m以内</td>\n",
       "      <td>当社売主。いつでも内覧可能です。市ヶ谷駅より徒歩5分、4路線利用可能の大規模マンション。</td>\n",
       "      <td>NaN</td>\n",
       "      <td>35.693810</td>\n",
       "      <td>139.739639</td>\n",
       "    </tr>\n",
       "    <tr>\n",
       "      <td>1</td>\n",
       "      <td>2</td>\n",
       "      <td>曙マンション</td>\n",
       "      <td>47</td>\n",
       "      <td>12</td>\n",
       "      <td>47.99</td>\n",
       "      <td>31.925628</td>\n",
       "      <td>1</td>\n",
       "      <td>1</td>\n",
       "      <td>1690</td>\n",
       "      <td>2DK</td>\n",
       "      <td>...</td>\n",
       "      <td>https://image2.homes.jp/smallimg/image.php?fil...</td>\n",
       "      <td>29</td>\n",
       "      <td>リノベーション・リフォーム</td>\n",
       "      <td>エレベーター</td>\n",
       "      <td>NaN</td>\n",
       "      <td>NaN</td>\n",
       "      <td>4階部分南西向きにつき陽当り良好／ＪＲ中央線「立川」駅徒歩12分</td>\n",
       "      <td>NaN</td>\n",
       "      <td>35.702904</td>\n",
       "      <td>139.424179</td>\n",
       "    </tr>\n",
       "    <tr>\n",
       "      <td>2</td>\n",
       "      <td>3</td>\n",
       "      <td>東中野ＲＨソサエテイ</td>\n",
       "      <td>48</td>\n",
       "      <td>3</td>\n",
       "      <td>43.60</td>\n",
       "      <td>7.768448</td>\n",
       "      <td>1</td>\n",
       "      <td>0</td>\n",
       "      <td>2980</td>\n",
       "      <td>1LDK</td>\n",
       "      <td>...</td>\n",
       "      <td>https://image.homes.jp/smallimg/image.php?file...</td>\n",
       "      <td>30</td>\n",
       "      <td>リノベーション・リフォーム</td>\n",
       "      <td>駐車場あり</td>\n",
       "      <td>エレベーター</td>\n",
       "      <td>スーパー800m以内</td>\n",
       "      <td>東中野駅徒歩3分の好立地／8階角部屋につき眺望良好です</td>\n",
       "      <td>角部屋</td>\n",
       "      <td>35.707783</td>\n",
       "      <td>139.686844</td>\n",
       "    </tr>\n",
       "    <tr>\n",
       "      <td>3</td>\n",
       "      <td>4</td>\n",
       "      <td>小金井スカイコーポラス</td>\n",
       "      <td>51</td>\n",
       "      <td>6</td>\n",
       "      <td>61.05</td>\n",
       "      <td>23.604636</td>\n",
       "      <td>1</td>\n",
       "      <td>0</td>\n",
       "      <td>2180</td>\n",
       "      <td>1SLDK</td>\n",
       "      <td>...</td>\n",
       "      <td>https://image2.homes.jp/smallimg/image.php?fil...</td>\n",
       "      <td>30</td>\n",
       "      <td>リノベーション・リフォーム</td>\n",
       "      <td>ペット相談可</td>\n",
       "      <td>駐車場あり</td>\n",
       "      <td>エレベーター</td>\n",
       "      <td>土地権利：所有権のお部屋／武蔵小金井駅徒歩6分の大規模マンションです／ペット飼育相談</td>\n",
       "      <td>スーパー800m以内</td>\n",
       "      <td>35.697376</td>\n",
       "      <td>139.505692</td>\n",
       "    </tr>\n",
       "    <tr>\n",
       "      <td>4</td>\n",
       "      <td>5</td>\n",
       "      <td>境南マンション</td>\n",
       "      <td>51</td>\n",
       "      <td>9</td>\n",
       "      <td>47.38</td>\n",
       "      <td>20.154785</td>\n",
       "      <td>1</td>\n",
       "      <td>0</td>\n",
       "      <td>1980</td>\n",
       "      <td>2LDK</td>\n",
       "      <td>...</td>\n",
       "      <td>https://image.homes.jp/smallimg/image.php?file...</td>\n",
       "      <td>30</td>\n",
       "      <td>リノベーション・リフォーム</td>\n",
       "      <td>オートロック</td>\n",
       "      <td>エレベーター</td>\n",
       "      <td>角部屋</td>\n",
       "      <td>JR中央線「武蔵境」駅徒歩9分／南向き角部屋で眺望・陽当たり良好</td>\n",
       "      <td>NaN</td>\n",
       "      <td>35.699955</td>\n",
       "      <td>139.536057</td>\n",
       "    </tr>\n",
       "  </tbody>\n",
       "</table>\n",
       "<p>5 rows × 28 columns</p>\n",
       "</div>"
      ],
      "text/plain": [
       "   id   bukkenName  years  minutes   sqrm   distance  renovate  express  \\\n",
       "0   1    九段フラワーホーム     41        5  42.14   2.960148         1        0   \n",
       "1   2       曙マンション     47       12  47.99  31.925628         1        1   \n",
       "2   3   東中野ＲＨソサエテイ     48        3  43.60   7.768448         1        0   \n",
       "3   4  小金井スカイコーポラス     51        6  61.05  23.604636         1        0   \n",
       "4   5      境南マンション     51        9  47.38  20.154785         1        0   \n",
       "\n",
       "   price  rooms  ...                                  displayPic -https  \\\n",
       "0   4480   1LDK  ...  https://image.homes.jp/smallimg/image.php?file...   \n",
       "1   1690    2DK  ...  https://image2.homes.jp/smallimg/image.php?fil...   \n",
       "2   2980   1LDK  ...  https://image.homes.jp/smallimg/image.php?file...   \n",
       "3   2180  1SLDK  ...  https://image2.homes.jp/smallimg/image.php?fil...   \n",
       "4   1980   2LDK  ...  https://image.homes.jp/smallimg/image.php?file...   \n",
       "\n",
       "   raSpecRow relatedKeywordsData relatedKeywordsData 2 relatedKeywordsData 3  \\\n",
       "0         11               駐車場あり                エレベーター                   最上階   \n",
       "1         29       リノベーション・リフォーム                エレベーター                   NaN   \n",
       "2         30       リノベーション・リフォーム                 駐車場あり                エレベーター   \n",
       "3         30       リノベーション・リフォーム                ペット相談可                 駐車場あり   \n",
       "4         30       リノベーション・リフォーム                オートロック                エレベーター   \n",
       "\n",
       "  relatedKeywordsData 4                            textFeatureComment  \\\n",
       "0            スーパー800m以内  当社売主。いつでも内覧可能です。市ヶ谷駅より徒歩5分、4路線利用可能の大規模マンション。   \n",
       "1                   NaN              4階部分南西向きにつき陽当り良好／ＪＲ中央線「立川」駅徒歩12分   \n",
       "2            スーパー800m以内                   東中野駅徒歩3分の好立地／8階角部屋につき眺望良好です   \n",
       "3                エレベーター    土地権利：所有権のお部屋／武蔵小金井駅徒歩6分の大規模マンションです／ペット飼育相談   \n",
       "4                   角部屋              JR中央線「武蔵境」駅徒歩9分／南向き角部屋で眺望・陽当たり良好   \n",
       "\n",
       "  relatedKeywordsData 5         緯度          経度  \n",
       "0                   NaN  35.693810  139.739639  \n",
       "1                   NaN  35.702904  139.424179  \n",
       "2                   角部屋  35.707783  139.686844  \n",
       "3            スーパー800m以内  35.697376  139.505692  \n",
       "4                   NaN  35.699955  139.536057  \n",
       "\n",
       "[5 rows x 28 columns]"
      ]
     },
     "execution_count": 39,
     "metadata": {},
     "output_type": "execute_result"
    }
   ],
   "source": [
    "\n",
    "#中身を確認します。\n",
    "data_scraping.head()"
   ]
  },
  {
   "cell_type": "code",
   "execution_count": 42,
   "metadata": {},
   "outputs": [
    {
     "data": {
      "text/html": [
       "<div>\n",
       "<style scoped>\n",
       "    .dataframe tbody tr th:only-of-type {\n",
       "        vertical-align: middle;\n",
       "    }\n",
       "\n",
       "    .dataframe tbody tr th {\n",
       "        vertical-align: top;\n",
       "    }\n",
       "\n",
       "    .dataframe thead th {\n",
       "        text-align: right;\n",
       "    }\n",
       "</style>\n",
       "<table border=\"1\" class=\"dataframe\">\n",
       "  <thead>\n",
       "    <tr style=\"text-align: right;\">\n",
       "      <th></th>\n",
       "      <th>years</th>\n",
       "      <th>minutes</th>\n",
       "      <th>sqrm</th>\n",
       "      <th>renovate</th>\n",
       "    </tr>\n",
       "  </thead>\n",
       "  <tbody>\n",
       "    <tr>\n",
       "      <td>0</td>\n",
       "      <td>41</td>\n",
       "      <td>5</td>\n",
       "      <td>42.14</td>\n",
       "      <td>1</td>\n",
       "    </tr>\n",
       "    <tr>\n",
       "      <td>1</td>\n",
       "      <td>47</td>\n",
       "      <td>12</td>\n",
       "      <td>47.99</td>\n",
       "      <td>1</td>\n",
       "    </tr>\n",
       "    <tr>\n",
       "      <td>2</td>\n",
       "      <td>48</td>\n",
       "      <td>3</td>\n",
       "      <td>43.60</td>\n",
       "      <td>1</td>\n",
       "    </tr>\n",
       "    <tr>\n",
       "      <td>3</td>\n",
       "      <td>51</td>\n",
       "      <td>6</td>\n",
       "      <td>61.05</td>\n",
       "      <td>1</td>\n",
       "    </tr>\n",
       "    <tr>\n",
       "      <td>4</td>\n",
       "      <td>51</td>\n",
       "      <td>9</td>\n",
       "      <td>47.38</td>\n",
       "      <td>1</td>\n",
       "    </tr>\n",
       "  </tbody>\n",
       "</table>\n",
       "</div>"
      ],
      "text/plain": [
       "   years  minutes   sqrm  renovate\n",
       "0     41        5  42.14         1\n",
       "1     47       12  47.99         1\n",
       "2     48        3  43.60         1\n",
       "3     51        6  61.05         1\n",
       "4     51        9  47.38         1"
      ]
     },
     "execution_count": 42,
     "metadata": {},
     "output_type": "execute_result"
    }
   ],
   "source": [
    "#予測に必要な特徴量（説明変数はilocの列指定で、 2:8 です。）\n",
    "test_x = data_scraping[['years','minutes','sqrm','renovate']]\n",
    "test_x.head()"
   ]
  },
  {
   "cell_type": "code",
   "execution_count": 43,
   "metadata": {},
   "outputs": [],
   "source": [
    "# predict_price に予測結果を格納します。\n",
    "predict_price = model.predict(test_x)"
   ]
  },
  {
   "cell_type": "code",
   "execution_count": 44,
   "metadata": {},
   "outputs": [],
   "source": [
    "# 予測結果をDataFrame型に変換します。\n",
    "df_predict_price = pd.DataFrame(predict_price, columns=['predict'])"
   ]
  },
  {
   "cell_type": "code",
   "execution_count": 45,
   "metadata": {},
   "outputs": [],
   "source": [
    "#元々の情報に予測結果を追加します。concatを使います。\n",
    "scraping_predict =  pd.concat([data_scraping,df_predict_price],axis=1)"
   ]
  },
  {
   "cell_type": "code",
   "execution_count": 46,
   "metadata": {},
   "outputs": [
    {
     "data": {
      "text/html": [
       "<div>\n",
       "<style scoped>\n",
       "    .dataframe tbody tr th:only-of-type {\n",
       "        vertical-align: middle;\n",
       "    }\n",
       "\n",
       "    .dataframe tbody tr th {\n",
       "        vertical-align: top;\n",
       "    }\n",
       "\n",
       "    .dataframe thead th {\n",
       "        text-align: right;\n",
       "    }\n",
       "</style>\n",
       "<table border=\"1\" class=\"dataframe\">\n",
       "  <thead>\n",
       "    <tr style=\"text-align: right;\">\n",
       "      <th></th>\n",
       "      <th>id</th>\n",
       "      <th>bukkenName</th>\n",
       "      <th>years</th>\n",
       "      <th>minutes</th>\n",
       "      <th>sqrm</th>\n",
       "      <th>distance</th>\n",
       "      <th>renovate</th>\n",
       "      <th>express</th>\n",
       "      <th>price</th>\n",
       "      <th>rooms</th>\n",
       "      <th>...</th>\n",
       "      <th>raSpecRow</th>\n",
       "      <th>relatedKeywordsData</th>\n",
       "      <th>relatedKeywordsData 2</th>\n",
       "      <th>relatedKeywordsData 3</th>\n",
       "      <th>relatedKeywordsData 4</th>\n",
       "      <th>textFeatureComment</th>\n",
       "      <th>relatedKeywordsData 5</th>\n",
       "      <th>緯度</th>\n",
       "      <th>経度</th>\n",
       "      <th>predict</th>\n",
       "    </tr>\n",
       "  </thead>\n",
       "  <tbody>\n",
       "    <tr>\n",
       "      <td>0</td>\n",
       "      <td>1</td>\n",
       "      <td>九段フラワーホーム</td>\n",
       "      <td>41</td>\n",
       "      <td>5</td>\n",
       "      <td>42.14</td>\n",
       "      <td>2.960148</td>\n",
       "      <td>1</td>\n",
       "      <td>0</td>\n",
       "      <td>4480</td>\n",
       "      <td>1LDK</td>\n",
       "      <td>...</td>\n",
       "      <td>11</td>\n",
       "      <td>駐車場あり</td>\n",
       "      <td>エレベーター</td>\n",
       "      <td>最上階</td>\n",
       "      <td>スーパー800m以内</td>\n",
       "      <td>当社売主。いつでも内覧可能です。市ヶ谷駅より徒歩5分、4路線利用可能の大規模マンション。</td>\n",
       "      <td>NaN</td>\n",
       "      <td>35.693810</td>\n",
       "      <td>139.739639</td>\n",
       "      <td>2.900771e+07</td>\n",
       "    </tr>\n",
       "    <tr>\n",
       "      <td>1</td>\n",
       "      <td>2</td>\n",
       "      <td>曙マンション</td>\n",
       "      <td>47</td>\n",
       "      <td>12</td>\n",
       "      <td>47.99</td>\n",
       "      <td>31.925628</td>\n",
       "      <td>1</td>\n",
       "      <td>1</td>\n",
       "      <td>1690</td>\n",
       "      <td>2DK</td>\n",
       "      <td>...</td>\n",
       "      <td>29</td>\n",
       "      <td>リノベーション・リフォーム</td>\n",
       "      <td>エレベーター</td>\n",
       "      <td>NaN</td>\n",
       "      <td>NaN</td>\n",
       "      <td>4階部分南西向きにつき陽当り良好／ＪＲ中央線「立川」駅徒歩12分</td>\n",
       "      <td>NaN</td>\n",
       "      <td>35.702904</td>\n",
       "      <td>139.424179</td>\n",
       "      <td>2.271712e+07</td>\n",
       "    </tr>\n",
       "    <tr>\n",
       "      <td>2</td>\n",
       "      <td>3</td>\n",
       "      <td>東中野ＲＨソサエテイ</td>\n",
       "      <td>48</td>\n",
       "      <td>3</td>\n",
       "      <td>43.60</td>\n",
       "      <td>7.768448</td>\n",
       "      <td>1</td>\n",
       "      <td>0</td>\n",
       "      <td>2980</td>\n",
       "      <td>1LDK</td>\n",
       "      <td>...</td>\n",
       "      <td>30</td>\n",
       "      <td>リノベーション・リフォーム</td>\n",
       "      <td>駐車場あり</td>\n",
       "      <td>エレベーター</td>\n",
       "      <td>スーパー800m以内</td>\n",
       "      <td>東中野駅徒歩3分の好立地／8階角部屋につき眺望良好です</td>\n",
       "      <td>角部屋</td>\n",
       "      <td>35.707783</td>\n",
       "      <td>139.686844</td>\n",
       "      <td>2.820050e+07</td>\n",
       "    </tr>\n",
       "    <tr>\n",
       "      <td>3</td>\n",
       "      <td>4</td>\n",
       "      <td>小金井スカイコーポラス</td>\n",
       "      <td>51</td>\n",
       "      <td>6</td>\n",
       "      <td>61.05</td>\n",
       "      <td>23.604636</td>\n",
       "      <td>1</td>\n",
       "      <td>0</td>\n",
       "      <td>2180</td>\n",
       "      <td>1SLDK</td>\n",
       "      <td>...</td>\n",
       "      <td>30</td>\n",
       "      <td>リノベーション・リフォーム</td>\n",
       "      <td>ペット相談可</td>\n",
       "      <td>駐車場あり</td>\n",
       "      <td>エレベーター</td>\n",
       "      <td>土地権利：所有権のお部屋／武蔵小金井駅徒歩6分の大規模マンションです／ペット飼育相談</td>\n",
       "      <td>スーパー800m以内</td>\n",
       "      <td>35.697376</td>\n",
       "      <td>139.505692</td>\n",
       "      <td>3.626701e+07</td>\n",
       "    </tr>\n",
       "    <tr>\n",
       "      <td>4</td>\n",
       "      <td>5</td>\n",
       "      <td>境南マンション</td>\n",
       "      <td>51</td>\n",
       "      <td>9</td>\n",
       "      <td>47.38</td>\n",
       "      <td>20.154785</td>\n",
       "      <td>1</td>\n",
       "      <td>0</td>\n",
       "      <td>1980</td>\n",
       "      <td>2LDK</td>\n",
       "      <td>...</td>\n",
       "      <td>30</td>\n",
       "      <td>リノベーション・リフォーム</td>\n",
       "      <td>オートロック</td>\n",
       "      <td>エレベーター</td>\n",
       "      <td>角部屋</td>\n",
       "      <td>JR中央線「武蔵境」駅徒歩9分／南向き角部屋で眺望・陽当たり良好</td>\n",
       "      <td>NaN</td>\n",
       "      <td>35.699955</td>\n",
       "      <td>139.536057</td>\n",
       "      <td>2.310713e+07</td>\n",
       "    </tr>\n",
       "  </tbody>\n",
       "</table>\n",
       "<p>5 rows × 29 columns</p>\n",
       "</div>"
      ],
      "text/plain": [
       "   id   bukkenName  years  minutes   sqrm   distance  renovate  express  \\\n",
       "0   1    九段フラワーホーム     41        5  42.14   2.960148         1        0   \n",
       "1   2       曙マンション     47       12  47.99  31.925628         1        1   \n",
       "2   3   東中野ＲＨソサエテイ     48        3  43.60   7.768448         1        0   \n",
       "3   4  小金井スカイコーポラス     51        6  61.05  23.604636         1        0   \n",
       "4   5      境南マンション     51        9  47.38  20.154785         1        0   \n",
       "\n",
       "   price  rooms  ... raSpecRow  relatedKeywordsData relatedKeywordsData 2  \\\n",
       "0   4480   1LDK  ...        11                駐車場あり                エレベーター   \n",
       "1   1690    2DK  ...        29        リノベーション・リフォーム                エレベーター   \n",
       "2   2980   1LDK  ...        30        リノベーション・リフォーム                 駐車場あり   \n",
       "3   2180  1SLDK  ...        30        リノベーション・リフォーム                ペット相談可   \n",
       "4   1980   2LDK  ...        30        リノベーション・リフォーム                オートロック   \n",
       "\n",
       "  relatedKeywordsData 3 relatedKeywordsData 4  \\\n",
       "0                   最上階            スーパー800m以内   \n",
       "1                   NaN                   NaN   \n",
       "2                エレベーター            スーパー800m以内   \n",
       "3                 駐車場あり                エレベーター   \n",
       "4                エレベーター                   角部屋   \n",
       "\n",
       "                             textFeatureComment relatedKeywordsData 5  \\\n",
       "0  当社売主。いつでも内覧可能です。市ヶ谷駅より徒歩5分、4路線利用可能の大規模マンション。                   NaN   \n",
       "1              4階部分南西向きにつき陽当り良好／ＪＲ中央線「立川」駅徒歩12分                   NaN   \n",
       "2                   東中野駅徒歩3分の好立地／8階角部屋につき眺望良好です                   角部屋   \n",
       "3    土地権利：所有権のお部屋／武蔵小金井駅徒歩6分の大規模マンションです／ペット飼育相談            スーパー800m以内   \n",
       "4              JR中央線「武蔵境」駅徒歩9分／南向き角部屋で眺望・陽当たり良好                   NaN   \n",
       "\n",
       "          緯度          経度       predict  \n",
       "0  35.693810  139.739639  2.900771e+07  \n",
       "1  35.702904  139.424179  2.271712e+07  \n",
       "2  35.707783  139.686844  2.820050e+07  \n",
       "3  35.697376  139.505692  3.626701e+07  \n",
       "4  35.699955  139.536057  2.310713e+07  \n",
       "\n",
       "[5 rows x 29 columns]"
      ]
     },
     "execution_count": 46,
     "metadata": {},
     "output_type": "execute_result"
    }
   ],
   "source": [
    "#中身を確認します。\n",
    "scraping_predict.head()"
   ]
  },
  {
   "cell_type": "code",
   "execution_count": 51,
   "metadata": {},
   "outputs": [],
   "source": [
    "#回答となる実際のマンション価格 (単位が1万円なので 10000をかけます。)\n",
    "t = data_scraping['price']*10000\n"
   ]
  },
  {
   "cell_type": "code",
   "execution_count": 50,
   "metadata": {},
   "outputs": [
    {
     "name": "stdout",
     "output_type": "stream",
     "text": [
      "RMSE: 24710729.397045385\n"
     ]
    }
   ],
   "source": [
    "#RMSEを計算します。\n",
    "mse = mean_squared_error(t, predict_price)\n",
    "print('RMSE:', math.sqrt(mse))"
   ]
  },
  {
   "cell_type": "code",
   "execution_count": 52,
   "metadata": {},
   "outputs": [],
   "source": [
    "#csvに吐き出します。この結果をTableauで可視化して誤差を確認し、追加すると良いと思われる説明変数を検討します。\n",
    "scraping_predict.to_csv(\"Chuoline_Scraiping+Predict.csv\")"
   ]
  },
  {
   "cell_type": "code",
   "execution_count": 53,
   "metadata": {},
   "outputs": [
    {
     "data": {
      "text/html": [
       "<div class='tableauPlaceholder' id='viz1581142085782' style='position: relative'><noscript><a href='#'><img alt=' ' src='https:&#47;&#47;public.tableau.com&#47;static&#47;images&#47;KD&#47;KD7QTP8FH&#47;1_rss.png' style='border: none' /></a></noscript><object class='tableauViz'  style='display:none;'><param name='host_url' value='https%3A%2F%2Fpublic.tableau.com%2F' /> <param name='embed_code_version' value='3' /> <param name='path' value='shared&#47;KD7QTP8FH' /> <param name='toolbar' value='yes' /><param name='static_image' value='https:&#47;&#47;public.tableau.com&#47;static&#47;images&#47;KD&#47;KD7QTP8FH&#47;1.png' /> <param name='animate_transition' value='yes' /><param name='display_static_image' value='yes' /><param name='display_spinner' value='yes' /><param name='display_overlay' value='yes' /><param name='display_count' value='yes' /><param name='filter' value='publish=yes' /></object></div>                <script type='text/javascript'>                    var divElement = document.getElementById('viz1581142085782');                    var vizElement = divElement.getElementsByTagName('object')[0];                    if ( divElement.offsetWidth > 800 ) { vizElement.style.width='100%';vizElement.style.height=(divElement.offsetWidth*0.75)+'px';} else if ( divElement.offsetWidth > 500 ) { vizElement.style.width='100%';vizElement.style.height=(divElement.offsetWidth*0.75)+'px';} else { vizElement.style.width='100%';vizElement.style.minHeight='1400px';vizElement.style.maxHeight=(divElement.offsetWidth*1.77)+'px';}                     var scriptElement = document.createElement('script');                    scriptElement.src = 'https://public.tableau.com/javascripts/api/viz_v1.js';                    vizElement.parentNode.insertBefore(scriptElement, vizElement);                </script>\n"
      ],
      "text/plain": [
       "<IPython.core.display.HTML object>"
      ]
     },
     "metadata": {},
     "output_type": "display_data"
    }
   ],
   "source": [
    "%%HTML\n",
    "<div class='tableauPlaceholder' id='viz1581142085782' style='position: relative'><noscript><a href='#'><img alt=' ' src='https:&#47;&#47;public.tableau.com&#47;static&#47;images&#47;KD&#47;KD7QTP8FH&#47;1_rss.png' style='border: none' /></a></noscript><object class='tableauViz'  style='display:none;'><param name='host_url' value='https%3A%2F%2Fpublic.tableau.com%2F' /> <param name='embed_code_version' value='3' /> <param name='path' value='shared&#47;KD7QTP8FH' /> <param name='toolbar' value='yes' /><param name='static_image' value='https:&#47;&#47;public.tableau.com&#47;static&#47;images&#47;KD&#47;KD7QTP8FH&#47;1.png' /> <param name='animate_transition' value='yes' /><param name='display_static_image' value='yes' /><param name='display_spinner' value='yes' /><param name='display_overlay' value='yes' /><param name='display_count' value='yes' /><param name='filter' value='publish=yes' /></object></div>                <script type='text/javascript'>                    var divElement = document.getElementById('viz1581142085782');                    var vizElement = divElement.getElementsByTagName('object')[0];                    if ( divElement.offsetWidth > 800 ) { vizElement.style.width='100%';vizElement.style.height=(divElement.offsetWidth*0.75)+'px';} else if ( divElement.offsetWidth > 500 ) { vizElement.style.width='100%';vizElement.style.height=(divElement.offsetWidth*0.75)+'px';} else { vizElement.style.width='100%';vizElement.style.minHeight='1400px';vizElement.style.maxHeight=(divElement.offsetWidth*1.77)+'px';}                     var scriptElement = document.createElement('script');                    scriptElement.src = 'https://public.tableau.com/javascripts/api/viz_v1.js';                    vizElement.parentNode.insertBefore(scriptElement, vizElement);                </script>"
   ]
  },
  {
   "cell_type": "markdown",
   "metadata": {},
   "source": [
    "## 以上がイントロダクションになります。"
   ]
  },
  {
   "cell_type": "markdown",
   "metadata": {},
   "source": [
    "### ワークの提案: こういうことをやってみたらよいのでは？\n",
    "\n",
    "・　Tableau を使って誤差が大きく出ている場所はどこかを分析してみる\n",
    "\n",
    "・　東京駅から最寄り駅の直線距離を説明変数に加えてみる　中央線-UTF8+Express.csv\n",
    "\n",
    "・  街の人気度（住みたいまちランキング）を説明変数に加えてみる　参考：　https://suumo.jp/edit/sumi_machi/\n",
    "\n",
    "・　色々なモデルを試してみる　LinearRegression、Ridge回帰、決定木、サポートベクターマシン、GBDTを比較\n",
    "\n",
    "・　データの標準化を行ってみる　\n",
    "\n",
    "・　Pycaretを試してみる　https://splineglobal.com/blogs/news/pycaret_tokyo_housing\n",
    "\n"
   ]
  },
  {
   "cell_type": "code",
   "execution_count": null,
   "metadata": {},
   "outputs": [],
   "source": []
  },
  {
   "cell_type": "markdown",
   "metadata": {
    "colab_type": "text",
    "id": "JxmUb_IFyxyN"
   },
   "source": [
    "## 訓練データと検証データに分割\n",
    "\n",
    "実際には予測モデルを作成する際には、訓練データと検証データを分割し、訓練データで学習しモデルを検証データで検証しモデルを評価します。\n",
    "このステップは　\n",
    "「Tableauデータサイエンス学習塾（全6回） 5/13 開催」 (https://ds4tableau-1.connpass.com/event/168438/) のクラスにて紹介しています。\n",
    "\n",
    "\n",
    "\n",
    "みなさん、前述のモデルの評価で実はやってはいけないことをしていました。なにかわかりますでしょうか。\n",
    "それは、学習に用いたデータをそのままモデルの評価に使用している点です。モデルは学習に用いたデータにうまく当てはめようと計算するのですから、うまくあてはまるのはごく自然なことですよね。\n",
    "\n",
    "(これは試験に何が出るか知っていてこれに答えるカンニングみたいなものです。**学習に使っていない、新しいデータに対しても予測**できなくてはなりません！）\n",
    "\n",
    "理想は学習に使用するデータにうまくあてはまるだけではなく、新しいデータに対しても上手く当てはまることを確認する必要があります。\n",
    "\n",
    "ここで出てくるのが**訓練データ**と**検証データ**になります。手持ちのデータを2つに分割し、モデルの学習に用いる訓練データとモデルの評価に用いる検証データに分割します。このようにすることで、新しいデータへの汎用性も確かめることができます。分割の割合はだいたい7:3で行うことが多いです。理想は5:5で半分を学習に用い、半分を評価に用いることです。しかし、現実は理想通りに分割できるほどのサンプル数がありませんので、学習に用いるデータに多くの割合を割くことになります。\n",
    "\n",
    "このようにデータを訓練データと検証データに分割することを **ホールドアウト法** と呼びます。\n",
    "\n",
    "また、ここで抑えておきたい話の中に**過学習（オーバーフィッティング）**というものがあります。これは、訓練データにうまく当てはまりすぎてしまい、新しいデータへの汎用性を失ってしまうことを意味します。例えるならば、定期試験前に過去問をひたすら勉強し、過去問では100点をたくさん取ることができるが、実際の試験では60点くらいしか取れないようなイメージです。過去のデータに**学習**し**過**ぎてしまう現象です。\n",
    "\n",
    "![overfitting](./images/overfitting.png)\n",
    "\n",
    "上記のことを踏まえ、実際にホールドアウト法でもう一度実装してみましょう。\n",
    "`sklearn`の中の`model_selection`の中に`train_test_split`がありますので、こちらをimportしましょう。\n",
    "\n"
   ]
  },
  {
   "cell_type": "code",
   "execution_count": 22,
   "metadata": {
    "colab": {},
    "colab_type": "code",
    "id": "trGhfCrCyxyN"
   },
   "outputs": [],
   "source": [
    "from sklearn.model_selection import train_test_split"
   ]
  },
  {
   "cell_type": "markdown",
   "metadata": {
    "colab_type": "text",
    "id": "pulsGeFr6eLL"
   },
   "source": [
    "それぞれ以下の変数名で定義します。\n",
    "- `x`の訓練データ：`x_train`\n",
    "- `t`の訓練データ：`t_train`\n",
    "- `x`の検証データ：`x_val`\n",
    "- `t`の検証データ：`t_val`\n",
    "\n",
    "`val`は`validation`（検証）の略です。検証データの割合を全体の30%（0.3）とし、ランダムに分割します。下記のコードを実行するたびに異なるランダムでデータが分割されるのを防ぐために`random_state=3`を指定します。指定する数値は何でも構いませんが、同じ数値にしておくと同じ結果になりますので、今回は3にしておくことをオススメいたします。実行するたびに分割されるデータが変わらないように**再現性の確保**を行っております。各データの`shape`も確認しておきましょう。\n",
    "\n",
    "![holdout](images/holdout.png)"
   ]
  },
  {
   "cell_type": "code",
   "execution_count": 23,
   "metadata": {
    "colab": {
     "base_uri": "https://localhost:8080/",
     "height": 51
    },
    "colab_type": "code",
    "executionInfo": {
     "elapsed": 1154,
     "status": "ok",
     "timestamp": 1554871675145,
     "user": {
      "displayName": "西沢衛",
      "photoUrl": "",
      "userId": "12011220225445512117"
     },
     "user_tz": -540
    },
    "id": "sUEu-IpsyxyP",
    "outputId": "561702c0-2d6f-43ed-ff24-a46274cc00e1"
   },
   "outputs": [
    {
     "name": "stdout",
     "output_type": "stream",
     "text": [
      "訓練データ :  (2099, 4) (2099,)\n",
      "検証データ :  (900, 4) (900,)\n"
     ]
    }
   ],
   "source": [
    "x_train, x_val, t_train, t_val = train_test_split(x, t, test_size=0.3, random_state=3)\n",
    "print('訓練データ : ', x_train.shape, t_train.shape)\n",
    "print('検証データ : ', x_val.shape, t_val.shape)"
   ]
  },
  {
   "cell_type": "markdown",
   "metadata": {
    "colab_type": "text",
    "id": "QZH1dLiRyxyQ"
   },
   "source": [
    "行数を確認すると、7:3の割合で分割できていることがわかるかと思います。\n",
    "それでは、先程と同様にモデルの宣言から評価までを行いましょう。"
   ]
  },
  {
   "cell_type": "code",
   "execution_count": 24,
   "metadata": {
    "colab": {},
    "colab_type": "code",
    "id": "MLM5owF7yxyQ"
   },
   "outputs": [],
   "source": [
    "model = LinearRegression()"
   ]
  },
  {
   "cell_type": "markdown",
   "metadata": {
    "colab_type": "text",
    "id": "pGCh0qs_6eLP"
   },
   "source": [
    "学習には訓練データを用います。"
   ]
  },
  {
   "cell_type": "code",
   "execution_count": 25,
   "metadata": {
    "colab": {},
    "colab_type": "code",
    "id": "jBEOugTr6eLP",
    "outputId": "61181fe4-2b60-4c4f-afd0-4b363d1d2db0"
   },
   "outputs": [
    {
     "data": {
      "text/plain": [
       "LinearRegression(copy_X=True, fit_intercept=True, n_jobs=None, normalize=False)"
      ]
     },
     "execution_count": 25,
     "metadata": {},
     "output_type": "execute_result"
    }
   ],
   "source": [
    "model.fit(x_train, t_train)\n"
   ]
  },
  {
   "cell_type": "markdown",
   "metadata": {
    "colab_type": "text",
    "id": "p_6yLOCZyxyR"
   },
   "source": [
    "過学習が起きていないことを確認するために、モデルの評価は訓練データ、検証データの両方で行います。"
   ]
  },
  {
   "cell_type": "code",
   "execution_count": 26,
   "metadata": {
    "colab": {
     "base_uri": "https://localhost:8080/",
     "height": 34
    },
    "colab_type": "code",
    "executionInfo": {
     "elapsed": 807,
     "status": "ok",
     "timestamp": 1554871711809,
     "user": {
      "displayName": "西沢衛",
      "photoUrl": "",
      "userId": "12011220225445512117"
     },
     "user_tz": -540
    },
    "id": "JQziH0HDyxyR",
    "outputId": "8c77c37d-a9d4-4a04-8ae8-c77de5fdc8e2"
   },
   "outputs": [
    {
     "data": {
      "text/plain": [
       "0.7321075852483699"
      ]
     },
     "execution_count": 26,
     "metadata": {},
     "output_type": "execute_result"
    }
   ],
   "source": [
    "model.score(x_train, t_train)"
   ]
  },
  {
   "cell_type": "code",
   "execution_count": 27,
   "metadata": {
    "colab": {
     "base_uri": "https://localhost:8080/",
     "height": 34
    },
    "colab_type": "code",
    "executionInfo": {
     "elapsed": 690,
     "status": "ok",
     "timestamp": 1554871720813,
     "user": {
      "displayName": "西沢衛",
      "photoUrl": "",
      "userId": "12011220225445512117"
     },
     "user_tz": -540
    },
    "id": "lpm09xTqyxyS",
    "outputId": "a2ab38f1-1729-4995-ecae-df4249b3136d"
   },
   "outputs": [
    {
     "data": {
      "text/plain": [
       "0.7708749691316192"
      ]
     },
     "execution_count": 27,
     "metadata": {},
     "output_type": "execute_result"
    }
   ],
   "source": [
    "model.score(x_val, t_val)"
   ]
  },
  {
   "cell_type": "markdown",
   "metadata": {
    "colab_type": "text",
    "id": "Tz1jDG1RyxyT"
   },
   "source": [
    "訓練データと検証データへの決定係数の値がほぼ同じであるため、過学習が起きていないことがわかります。\n",
    "これで評価までの一連の流れはできました。最後に予測値をもとめましょう。"
   ]
  },
  {
   "cell_type": "markdown",
   "metadata": {
    "colab_type": "text",
    "id": "tdrXM5tCyxyU"
   },
   "source": [
    "#### RMSEでも評価してみましょう。"
   ]
  },
  {
   "cell_type": "code",
   "execution_count": 28,
   "metadata": {},
   "outputs": [],
   "source": [
    "# ここはおまじないと思って実行してください。\n",
    "\n",
    "from sklearn.metrics import mean_squared_error\n",
    "import math"
   ]
  },
  {
   "cell_type": "code",
   "execution_count": 29,
   "metadata": {},
   "outputs": [
    {
     "data": {
      "text/plain": [
       "pandas.core.frame.DataFrame"
      ]
     },
     "execution_count": 29,
     "metadata": {},
     "output_type": "execute_result"
    }
   ],
   "source": [
    "type(x_val)"
   ]
  },
  {
   "cell_type": "code",
   "execution_count": 30,
   "metadata": {},
   "outputs": [
    {
     "data": {
      "text/html": [
       "<div>\n",
       "<style scoped>\n",
       "    .dataframe tbody tr th:only-of-type {\n",
       "        vertical-align: middle;\n",
       "    }\n",
       "\n",
       "    .dataframe tbody tr th {\n",
       "        vertical-align: top;\n",
       "    }\n",
       "\n",
       "    .dataframe thead th {\n",
       "        text-align: right;\n",
       "    }\n",
       "</style>\n",
       "<table border=\"1\" class=\"dataframe\">\n",
       "  <thead>\n",
       "    <tr style=\"text-align: right;\">\n",
       "      <th></th>\n",
       "      <th>years</th>\n",
       "      <th>minutes</th>\n",
       "      <th>sqrm</th>\n",
       "      <th>renovate</th>\n",
       "    </tr>\n",
       "  </thead>\n",
       "  <tbody>\n",
       "    <tr>\n",
       "      <td>1283</td>\n",
       "      <td>10</td>\n",
       "      <td>4</td>\n",
       "      <td>35</td>\n",
       "      <td>0</td>\n",
       "    </tr>\n",
       "    <tr>\n",
       "      <td>250</td>\n",
       "      <td>46</td>\n",
       "      <td>8</td>\n",
       "      <td>30</td>\n",
       "      <td>1</td>\n",
       "    </tr>\n",
       "    <tr>\n",
       "      <td>2153</td>\n",
       "      <td>25</td>\n",
       "      <td>18</td>\n",
       "      <td>55</td>\n",
       "      <td>0</td>\n",
       "    </tr>\n",
       "    <tr>\n",
       "      <td>2239</td>\n",
       "      <td>45</td>\n",
       "      <td>19</td>\n",
       "      <td>60</td>\n",
       "      <td>1</td>\n",
       "    </tr>\n",
       "    <tr>\n",
       "      <td>632</td>\n",
       "      <td>8</td>\n",
       "      <td>4</td>\n",
       "      <td>60</td>\n",
       "      <td>0</td>\n",
       "    </tr>\n",
       "    <tr>\n",
       "      <td>...</td>\n",
       "      <td>...</td>\n",
       "      <td>...</td>\n",
       "      <td>...</td>\n",
       "      <td>...</td>\n",
       "    </tr>\n",
       "    <tr>\n",
       "      <td>2926</td>\n",
       "      <td>18</td>\n",
       "      <td>2</td>\n",
       "      <td>55</td>\n",
       "      <td>0</td>\n",
       "    </tr>\n",
       "    <tr>\n",
       "      <td>577</td>\n",
       "      <td>19</td>\n",
       "      <td>6</td>\n",
       "      <td>55</td>\n",
       "      <td>1</td>\n",
       "    </tr>\n",
       "    <tr>\n",
       "      <td>2191</td>\n",
       "      <td>16</td>\n",
       "      <td>16</td>\n",
       "      <td>70</td>\n",
       "      <td>1</td>\n",
       "    </tr>\n",
       "    <tr>\n",
       "      <td>424</td>\n",
       "      <td>41</td>\n",
       "      <td>3</td>\n",
       "      <td>30</td>\n",
       "      <td>0</td>\n",
       "    </tr>\n",
       "    <tr>\n",
       "      <td>845</td>\n",
       "      <td>35</td>\n",
       "      <td>4</td>\n",
       "      <td>15</td>\n",
       "      <td>1</td>\n",
       "    </tr>\n",
       "  </tbody>\n",
       "</table>\n",
       "<p>900 rows × 4 columns</p>\n",
       "</div>"
      ],
      "text/plain": [
       "      years  minutes  sqrm  renovate\n",
       "1283     10        4    35         0\n",
       "250      46        8    30         1\n",
       "2153     25       18    55         0\n",
       "2239     45       19    60         1\n",
       "632       8        4    60         0\n",
       "...     ...      ...   ...       ...\n",
       "2926     18        2    55         0\n",
       "577      19        6    55         1\n",
       "2191     16       16    70         1\n",
       "424      41        3    30         0\n",
       "845      35        4    15         1\n",
       "\n",
       "[900 rows x 4 columns]"
      ]
     },
     "execution_count": 30,
     "metadata": {},
     "output_type": "execute_result"
    }
   ],
   "source": [
    "pd.DataFrame(x_val)"
   ]
  },
  {
   "cell_type": "code",
   "execution_count": 31,
   "metadata": {},
   "outputs": [],
   "source": [
    "p_val = model.predict(x_val)\n",
    "p_train = model.predict(x_train)"
   ]
  },
  {
   "cell_type": "code",
   "execution_count": 32,
   "metadata": {},
   "outputs": [
    {
     "data": {
      "text/plain": [
       "array([ 3.83254299e+07,  1.41570181e+07,  3.01658802e+07,  2.54707941e+07,\n",
       "        5.78625415e+07,  2.97384527e+07,  1.78089572e+07,  2.13686181e+07,\n",
       "        4.84928576e+07,  3.38796292e+07,  4.16663021e+07,  4.41586772e+07,\n",
       "        4.97772859e+07,  1.91146054e+07,  9.32997814e+06,  1.91146054e+07,\n",
       "        5.13630046e+07,  3.71915658e+07,  2.66452199e+07,  9.13812062e+06,\n",
       "        5.71878330e+07,  6.32852275e+07,  3.82800713e+07,  3.66602055e+07,\n",
       "        4.61570464e+07,  5.90601915e+07,  2.90304549e+07,  3.74994255e+07,\n",
       "        4.63009521e+06,  4.84162708e+07,  4.91595621e+07,  5.66648915e+07,\n",
       "        1.76607444e+06,  2.51023557e+07,  5.42764492e+07,  8.84191543e+06,\n",
       "       -2.42087552e+06,  4.98390675e+07,  9.38820328e+07,  5.16255058e+07,\n",
       "        5.95783362e+07,  5.83301159e+07,  4.56441135e+07,  6.51246226e+06,\n",
       "        3.18764632e+07,  5.41600322e+07,  2.76108655e+07,  8.55412916e+06,\n",
       "        1.38512193e+07,  5.38858765e+07,  3.84008704e+07,  1.17553601e+07,\n",
       "        5.55426820e+07,  3.45727652e+07,  4.38440446e+07,  2.30654856e+07,\n",
       "        2.84881715e+07,  2.06754821e+07,  3.02039662e+07,  3.40799057e+07,\n",
       "        5.61013883e+07,  2.83104443e+07,  2.97384527e+07,  1.11195672e+07,\n",
       "        3.57836309e+07,  2.50253540e+07,  3.00615325e+07,  7.73539737e+06,\n",
       "        6.06142106e+07,  2.44618508e+07,  2.27713413e+07,  4.33242539e+07,\n",
       "        3.41051908e+07,  2.46537084e+07,  3.67280567e+07,  3.83053564e+07,\n",
       "        4.04835138e+07,  4.21924507e+07,  2.08051149e+07,  6.41653350e+06,\n",
       "        3.26318239e+07,  5.16387215e+07,  3.05897421e+07,  1.19797468e+08,\n",
       "        5.29170236e+07,  1.24232109e+07,  2.60564316e+07,  6.26394261e+07,\n",
       "        1.61758756e+07,  5.19313046e+07,  5.11579313e+07,  5.69406084e+07,\n",
       "        2.00750393e+07,  1.61052320e+07,  3.38515517e+07,  2.85408027e+07,\n",
       "        1.74051687e+07,  2.97384527e+07,  4.34655412e+07,  3.86031512e+07,\n",
       "        3.45285530e+07,  4.53736082e+07,  6.10817850e+07,  2.38955553e+07,\n",
       "        6.73846676e+07,  5.53713128e+07,  4.17770926e+07,  6.19020780e+07,\n",
       "        1.86265427e+07,  4.14238743e+07,  3.38486328e+07,  3.28288930e+07,\n",
       "        8.12413889e+07,  5.02159248e+07,  1.79875990e+07,  4.29678849e+07,\n",
       "        3.76780673e+07,  5.21115076e+07,  2.04334692e+07,  4.44211783e+07,\n",
       "        5.21363778e+07,  3.62748444e+07,  3.62042856e+07,  4.06801682e+07,\n",
       "        3.29396836e+07,  4.36911028e+07,  1.00732695e+07,  9.72690890e+06,\n",
       "        1.63809489e+07,  4.20712369e+07,  4.40162435e+07,  1.98177498e+07,\n",
       "        1.09040706e+07,  2.77469411e+07,  5.65942479e+07,  2.62029306e+07,\n",
       "        5.02861536e+07,  1.94023916e+07,  8.56254806e+06,  5.46533065e+07,\n",
       "        2.13292027e+07,  3.39185449e+07,  4.70789795e+07,  4.54574676e+07,\n",
       "       -1.35129710e+06,  5.85219735e+07,  3.78630671e+07,  6.12941308e+07,\n",
       "        3.04480400e+07,  3.75953543e+07,  1.46772236e+07,  6.68211644e+07,\n",
       "        5.56843841e+07,  4.06432285e+07,  5.44361639e+07,  1.15133472e+07,\n",
       "        5.31052307e+07,  3.42649055e+07,  1.64889470e+07,  2.79066558e+07,\n",
       "        1.65848758e+07,  5.73122541e+07,  3.92657904e+07,  3.55584842e+07,\n",
       "        3.31832577e+07,  3.78630671e+07,  5.49538937e+07,  4.13158762e+07,\n",
       "        5.35595894e+07,  2.60564316e+07,  1.89199554e+07,  6.08851306e+07,\n",
       "        1.46824353e+07,  2.02516202e+07,  1.47863681e+07,  6.58860156e+07,\n",
       "        3.60329164e+07,  2.41097789e+07,  6.32097870e+07,  1.11195672e+07,\n",
       "        5.51541701e+07,  3.76017123e+07,  1.07495676e+07,  2.44618508e+07,\n",
       "        4.86414175e+07,  7.44761109e+06,  3.19069599e+07,  3.05897421e+07,\n",
       "        5.77333236e+07,  5.83806861e+07,  6.29725709e+07,  1.82753853e+07,\n",
       "        1.02771963e+07,  4.05978700e+07,  3.81588575e+07,  3.79080108e+07,\n",
       "        4.90704911e+07,  5.43329626e+07,  4.06047277e+07,  2.19321212e+07,\n",
       "        1.73402365e+07,  2.45577796e+07,  6.30732965e+07,  1.25564942e+07,\n",
       "        5.93078309e+07,  1.89997495e+07,  3.35164025e+07,  5.58136021e+07,\n",
       "        5.76433380e+07,  6.01671244e+07,  3.17299642e+07,  3.38474864e+07,\n",
       "        3.60329164e+07,  1.92105341e+07,  3.00262389e+07,  1.17316362e+07,\n",
       "        3.43989202e+07,  3.68974215e+07,  2.84833747e+07,  3.25238257e+07,\n",
       "       -1.91594662e+06,  3.87223607e+07,  2.56847860e+07,  2.58324313e+07,\n",
       "        1.51965146e+07,  2.51212828e+07,  4.33969585e+07,  4.71407046e+07,\n",
       "        4.40041741e+07,  5.06834992e+07,  2.62282157e+07,  5.12586569e+07,\n",
       "        4.63853439e+07,  3.29781844e+07,  3.67994319e+07,  7.11373323e+07,\n",
       "        6.66915316e+07,  1.55537982e+07,  5.19770780e+07,  2.09183247e+07,\n",
       "        4.87421430e+07,  4.49320504e+07,  3.18258930e+07,  5.03572121e+07,\n",
       "        7.54353985e+06,  5.28415831e+07,  5.70032480e+07,  4.12199474e+07,\n",
       "        1.64889470e+07,  1.84551734e+07,  1.58042300e+07,  1.97803953e+07,\n",
       "        3.48099813e+07,  2.00750393e+07,  2.13496910e+07,  5.44229482e+07,\n",
       "        1.03610557e+07,  4.15900319e+07,  2.74570940e+07,  4.95059226e+07,\n",
       "        4.64126899e+07,  5.86564030e+07,  5.36555181e+07,  7.73539737e+06,\n",
       "        2.08616283e+07,  2.14319892e+07,  3.01221677e+07,  5.85271851e+07,\n",
       "        2.47496371e+07,  7.42811353e+07,  3.38748324e+07,  2.56847860e+07,\n",
       "        3.28822557e+07,  1.85068900e+07,  1.88641736e+07,  3.75306538e+07,\n",
       "        1.19556365e+07,  1.40936470e+07,  5.83301159e+07,  7.36375171e+06,\n",
       "        2.38024189e+07,  7.23397791e+07,  4.50553252e+07,  2.21872650e+07,\n",
       "        3.73328531e+07,  6.01418393e+07,  3.69106373e+07,  6.22999233e+07,\n",
       "        2.40902052e+07,  6.26715689e+07,  4.63922016e+07,  2.45577796e+07,\n",
       "        4.44211783e+07,  5.91492626e+07,  5.59052915e+06,  5.80543990e+07,\n",
       "        1.19797468e+08,  4.31524698e+07,  2.50818674e+07,  2.64196584e+07,\n",
       "        3.35164025e+07,  6.41653350e+06,  2.61382301e+07,  2.05558294e+07,\n",
       "        1.70082380e+07,  4.54775410e+07,  3.44494904e+07,  3.74793521e+07,\n",
       "        3.95483650e+07,  5.24314367e+07,  6.72960488e+06,  5.21890089e+07,\n",
       "        3.09028135e+07,  2.22178466e+07, -3.98016271e+06,  3.30255474e+07,\n",
       "        4.01756541e+07,  1.22313534e+07,  4.70789795e+07,  5.07541429e+07,\n",
       "        1.58042300e+07,  7.93932427e+06,  1.13082739e+07,  3.02060271e+07,\n",
       "        5.34171557e+07,  3.12170312e+07,  5.53075268e+07,  2.85660878e+07,\n",
       "        6.81532440e+07, -7.90419665e+06,  3.25791927e+07,  6.02883383e+07,\n",
       "        2.07593415e+07,  2.22078381e+07,  6.13458473e+07,  5.17346502e+07,\n",
       "        3.18258930e+07,  5.74908959e+07,  3.48099813e+07,  3.00763943e+07,\n",
       "        4.77374969e+07,  2.60174311e+07,  4.48686793e+07,  6.27422126e+07,\n",
       "        3.87275723e+07,  1.81673872e+07,  3.40716010e+06,  6.83583172e+07,\n",
       "        6.21080658e+07,  5.41351619e+07,  8.47868868e+06,  7.53507137e+07,\n",
       "        6.29725709e+07,  5.21436504e+07,  1.76607444e+06,  3.97787233e+07,\n",
       "        4.40996881e+07,  3.40594174e+07,  4.82617677e+07,  4.29606123e+07,\n",
       "        5.04984994e+07,  1.02065527e+07,  4.66499059e+07,  6.69225040e+06,\n",
       "        4.22293904e+07,  1.91278211e+07,  1.34927893e+07,  9.23404938e+06,\n",
       "        3.60894297e+07, -1.91594662e+06,  9.32997814e+06,  3.15766075e+07,\n",
       "        4.60531136e+07,  1.34474308e+07,  3.01221677e+07,  1.24284226e+07,\n",
       "        5.63386044e+07,  5.52368832e+07,  5.44229482e+07,  7.14182608e+07,\n",
       "        6.32097870e+07,  6.23252084e+07,  5.68061788e+07,  4.16105202e+07,\n",
       "        2.99804656e+07,  2.30591276e+07,  2.12726893e+07,  3.36829749e+07,\n",
       "        6.20374221e+07,  4.42999645e+07,  1.89733181e+07,  4.05605155e+07,\n",
       "        2.65745762e+07,  4.34418173e+07,  1.34542885e+07,  3.96627211e+07,\n",
       "        4.38191743e+07,  1.78137540e+07,  1.76607444e+06,  2.27713413e+07,\n",
       "        3.67994319e+07,  2.10929012e+07,  7.52800700e+07,  5.91360468e+07,\n",
       "        4.79113419e+07,  3.58269286e+07,  4.22378093e+07,  7.01062547e+07,\n",
       "        2.51333522e+07,  2.49294253e+07,  5.60054596e+07,  5.10620026e+07,\n",
       "        1.43825796e+07,  3.32659707e+07,  2.14645468e+07,  1.64636619e+07,\n",
       "        2.41861339e+07,  1.31665022e+07,  6.83113975e+07,  7.55560923e+06,\n",
       "        6.16724805e+06,  6.69225040e+06,  2.37381333e+07,  1.31665022e+07,\n",
       "        1.39339323e+07,  7.01062547e+07, -7.90419665e+06,  3.67677888e+07,\n",
       "        9.02000118e+07,  1.53619407e+07,  1.11918569e+07,  3.34072580e+07,\n",
       "        3.98465746e+07,  2.95586645e+07,  5.40059440e+07,  3.55079140e+07,\n",
       "        4.40928303e+07,  5.60307447e+07,  2.04334692e+07,  9.50976628e+06,\n",
       "        6.28312836e+07,  3.85730693e+07,  4.91965017e+07,  8.04222423e+07,\n",
       "        5.77465393e+07,  3.66159933e+07,  2.45577796e+07,  2.55182135e+07,\n",
       "        7.05991142e+07,  2.00561122e+07,  6.09858562e+07,  5.69526778e+07,\n",
       "        3.85305031e+07,  2.88033038e+07,  4.42293208e+07,  4.01503690e+07,\n",
       "        3.31174108e+07,  8.12025875e+06,  2.31345681e+07,  5.85267703e+07,\n",
       "        6.39124840e+06,  9.13812062e+06,  4.90182748e+07,  5.27203693e+07,\n",
       "        3.56544130e+07,  2.43659221e+07,  2.22078381e+07,  3.87340152e+07,\n",
       "        2.61776455e+07,  2.02416117e+07,  5.61973171e+07,  5.24900109e+07,\n",
       "        5.29375119e+07,  2.45577796e+07,  4.64628452e+07,  2.38983477e+07,\n",
       "        5.54166713e+07,  3.73417153e+07,  8.47110642e+07,  1.11195672e+07,\n",
       "        4.73599081e+07,  2.09969724e+07,  3.15444647e+07,  4.26800986e+07,\n",
       "        6.83198164e+07,  2.75466647e+07,  3.49059100e+07,  4.80073294e+06,\n",
       "        1.02567081e+07,  4.69761930e+07,  2.91680918e+07,  5.28952715e+06,\n",
       "        4.24043817e+07,  5.90649883e+07,  2.56706557e+07,  3.78177086e+07,\n",
       "        2.42699933e+07,  1.40562925e+07,  2.41097789e+07,  2.40195615e+07,\n",
       "        8.95833248e+06,  3.96944491e+07,  3.50150545e+07,  3.55131257e+07,\n",
       "        5.13682162e+07,  2.44618508e+07,  1.79048860e+07,  1.67767333e+07,\n",
       "        3.46939790e+07,  1.88388885e+07,  1.92811778e+07,  2.66058045e+07,\n",
       "        4.53736082e+07,  2.97384527e+07,  2.55434986e+07,  6.49508667e+07,\n",
       "        5.57092544e+07,  3.48301541e+06,  2.51212828e+07,  2.28672701e+07,\n",
       "        4.27101805e+07,  5.35263002e+07,  1.67514482e+07,  7.79310135e+07,\n",
       "        5.16560025e+07,  1.26920701e+07,  5.56843841e+07,  5.83806861e+07,\n",
       "        4.95681474e+07,  5.41857321e+07,  2.14825594e+07,  4.84616293e+07,\n",
       "        1.92811778e+07,  5.33091576e+07,  5.80343256e+07,  4.79739815e+07,\n",
       "        5.15933629e+07,  4.20712369e+07,  4.63874048e+07,  2.25209095e+07,\n",
       "        3.59622727e+07,  2.38983477e+07,  5.70365372e+07,  3.40782596e+07,\n",
       "        6.42709465e+07,  1.91852490e+07,  4.50216212e+07,  2.23543371e+07,\n",
       "        5.57803129e+07,  3.40799057e+07,  1.37231477e+07, -1.91594662e+06,\n",
       "        1.60799469e+07,  5.06830844e+07,  3.22802516e+07,  3.15444647e+07,\n",
       "        4.23510191e+07,  6.51808102e+07,  2.55747269e+07,  5.72251874e+07,\n",
       "        1.90234734e+07,  4.17955200e+07,  2.38983477e+07,  3.55584842e+07,\n",
       "        5.14842185e+07,  4.18709605e+07,  9.84126504e+06,  2.72989404e+07,\n",
       "        1.93064629e+07,  4.56946837e+07,  2.71834380e+07,  4.90299293e+07,\n",
       "        5.59052915e+06,  1.92871209e+07,  4.35285956e+07,  4.59639120e+06,\n",
       "        3.92858638e+07,  2.63546412e+07,  2.01203979e+07,  4.63853439e+07,\n",
       "        6.77109547e+07,  2.09969724e+07,  4.02210127e+07,  6.55275856e+07,\n",
       "       -7.90419665e+06,  2.40753434e+07,  4.97684238e+07,  7.85661123e+06,\n",
       "        5.38473756e+07,  6.27474242e+07,  4.16806641e+07,  1.63524565e+07,\n",
       "        4.07202302e+07,  7.01062547e+07,  3.95483650e+07,  1.00146952e+07,\n",
       "        1.04038306e+08,  4.30686105e+07,  4.22293904e+07,  3.95162222e+07,\n",
       "        2.47496371e+07,  3.14289622e+07,  2.65240060e+07,  4.98691494e+07,\n",
       "        4.91089919e+07,  3.55079140e+07,  3.89848618e+07,  1.80582427e+07,\n",
       "        1.29867141e+07,  4.93008494e+07,  2.51212828e+07,  2.33348445e+07,\n",
       "        1.06620577e+07,  8.00425654e+06,  6.59632164e+06,  2.35519871e+07,\n",
       "        6.44122338e+07,  5.52115981e+07,  2.46010772e+07,  2.00871087e+07,\n",
       "        5.83100425e+07,  1.56497269e+07,  3.99822354e+07,  7.32801396e+07,\n",
       "        4.28587404e+07,  2.48134231e+07,  3.35416876e+07,  1.51748800e+07,\n",
       "        2.60644086e+06,  5.77333236e+07,  1.77046096e+07,  2.61523604e+07,\n",
       "        2.34074926e+07,  2.53969997e+07,  2.82145156e+07,  6.72960488e+06,\n",
       "        7.49658523e+07,  6.36067178e+07,  2.57100711e+07,  3.59301299e+07,\n",
       "        3.67055640e+07,  1.42096492e+07,  2.29631988e+07,  4.14491594e+07,\n",
       "        3.29649687e+07,  2.94811632e+07,  7.70325454e+06,  2.42699933e+07,\n",
       "        2.01203979e+07,  1.89348172e+07,  3.77619267e+07,  4.23084529e+07,\n",
       "        1.76038840e+07,  2.90304549e+07,  4.13600884e+07,  2.39420602e+07,\n",
       "        6.32097870e+07,  4.01877235e+07,  5.04531409e+07,  1.97619679e+07,\n",
       "        1.72443077e+07,  1.05408439e+07,  4.69055494e+07,  3.02285198e+07,\n",
       "        6.01213510e+07,  7.38267766e+07,  4.53868239e+07,  8.56254806e+06,\n",
       "        3.60714172e+07,  6.53047480e+06,  4.16743061e+07,  2.22716241e+07,\n",
       "        5.04832228e+07,  6.05267007e+07,  3.60329164e+07,  4.93261345e+07,\n",
       "        3.09028135e+07,  5.93912755e+07,  3.53091988e+07,  5.00441407e+07,\n",
       "        3.48099813e+07,  3.90454405e+07,  2.23037669e+07,  4.40996881e+07,\n",
       "        3.70703520e+07,  2.82578132e+07,  2.24956244e+07,  3.44740440e+07,\n",
       "        5.50955959e+07,  1.25444248e+07,  2.20280500e+07,  7.67402212e+07,\n",
       "        5.66596962e+06,  1.29964637e+06,  5.53075268e+07,  3.98605218e+07,\n",
       "        8.67054620e+06,  2.06264731e+07,  6.00711957e+07,  2.71834380e+07,\n",
       "        4.41381889e+07,  4.37706085e+07,  3.22344783e+07,  3.28364823e+07,\n",
       "        2.63048025e+07,  3.34072580e+07,  3.97149374e+07,  4.59118263e+07,\n",
       "        1.18022798e+07,  8.39597565e+06,  3.72289203e+07,  5.35659474e+07,\n",
       "        3.79095720e+07,  4.07460150e+07,  5.69273927e+07,  3.39707612e+07,\n",
       "        3.57894417e+06,  3.82094277e+07,  2.92455931e+07,  4.82444867e+07,\n",
       "        6.18002060e+07,  1.82753853e+07,  9.71483952e+06,  4.59639120e+06,\n",
       "        7.74861309e+06,  3.97450193e+07,  1.67646639e+07,  3.15672831e+06,\n",
       "        4.49593964e+07,  3.97586499e+07,  2.59605029e+07,  5.31879437e+07,\n",
       "        5.55426820e+07,  1.25444248e+07,  4.30943104e+07,  3.08971021e+07,\n",
       "        3.69158489e+07,  1.48943662e+07,  3.89980776e+07,  1.64102993e+07,\n",
       "        3.91871427e+07,  3.36508321e+07,  3.42011195e+07,  8.12025875e+06,\n",
       "        1.67514482e+07,  5.12670758e+07,  1.91779765e+07,  1.39339323e+07,\n",
       "        4.85767170e+07,  5.58963151e+07,  1.16799196e+07,  6.59819443e+07,\n",
       "        2.61523604e+07,  6.02188410e+07,  5.24253104e+07,  5.03872940e+07,\n",
       "        4.40242476e+07,  1.72443077e+07,  1.22313534e+07,  1.92490350e+07,\n",
       "        2.70875092e+07,  6.03721977e+07,  6.07185582e+07,  3.73196374e+07,\n",
       "        4.52724678e+07,  1.63677331e+07,  7.01062547e+07,  3.56291279e+07,\n",
       "        3.23239641e+07,  6.13779902e+07,  2.23996957e+07,  2.59857880e+07,\n",
       "        3.87223607e+07,  2.45577796e+07,  1.25564942e+07,  2.84448739e+07,\n",
       "        9.62412242e+06,  3.97597962e+07,  2.56141423e+07,  2.14645468e+07,\n",
       "        6.05182818e+07,  3.39707612e+07,  6.57948836e+07,  1.72443077e+07,\n",
       "        2.01456830e+07,  3.58594862e+07,  5.40139481e+07,  5.22443760e+07,\n",
       "        6.41653350e+06,  1.96254774e+07,  4.20580212e+07, -3.98016271e+06,\n",
       "        3.63270606e+07,  9.59189029e+07,  7.55473680e+07,  3.48737672e+07,\n",
       "        5.02359982e+07,  3.86385013e+07,  6.31391433e+07,  6.03469126e+07,\n",
       "        1.29867141e+07,  2.31550564e+07,  4.05641660e+07,  4.39078305e+07,\n",
       "        3.10757439e+07,  3.48147781e+07,  4.33447422e+07,  5.97175626e+07,\n",
       "        4.88052701e+06,  2.38983477e+07,  2.31550564e+07,  9.71483952e+06,\n",
       "        3.01221677e+07,  5.05297277e+07,  2.78681550e+07,  2.70875092e+07,\n",
       "        7.56517157e+07,  7.35943573e+07,  3.10930250e+07,  2.45577796e+07,\n",
       "        4.07455153e+07,  1.68605927e+07,  2.24956244e+07,  3.48400632e+07,\n",
       "        1.65912338e+07,  3.82358591e+07,  3.48099813e+07,  5.93074161e+07,\n",
       "        4.43120339e+07,  9.73897828e+06,  3.15672831e+06,  4.42999645e+07,\n",
       "       -3.58720334e+05,  1.37231477e+07,  3.19924654e+07,  2.41861339e+07,\n",
       "        3.49444108e+07,  2.29631988e+07,  1.59254438e+07,  1.59133745e+07,\n",
       "        6.04881999e+07,  4.22952372e+07,  1.59133745e+07,  3.09028135e+07,\n",
       "        4.01435113e+07,  7.54466425e+07,  5.45573778e+07,  2.64260164e+07,\n",
       "        4.74690526e+07,  3.05644570e+07,  6.09104157e+07,  3.07168991e+07,\n",
       "        2.96994521e+07,  1.87104020e+07,  5.35595894e+07,  5.56085288e+07,\n",
       "        1.41570181e+07,  2.29631988e+07,  5.18100907e+07,  2.61523604e+07,\n",
       "        3.36123312e+07,  5.44229482e+07,  2.55952112e+06,  2.66320042e+07,\n",
       "        2.53817230e+07, -1.79358641e+06,  2.53969997e+07,  3.95736501e+07,\n",
       "        1.28907853e+07,  2.21299219e+07,  4.22799606e+07,  3.47750460e+07,\n",
       "        5.69526778e+07,  1.67767333e+07,  3.79332959e+07,  5.01906397e+07,\n",
       "        4.63794007e+07,  5.02359982e+07,  2.54154271e+07,  2.70875092e+07,\n",
       "        4.71295497e+07,  3.34072580e+07,  4.27423234e+07,  2.54270816e+07,\n",
       "        3.80039396e+07,  2.43659221e+07,  2.92708783e+07,  1.19736490e+07,\n",
       "        6.82553364e+06,  3.38748324e+07,  2.82208736e+07,  2.49294253e+07,\n",
       "        1.51821525e+07,  3.63787772e+07,  1.44974355e+07,  5.06076439e+07,\n",
       "        4.98438643e+07,  5.22696611e+07,  1.82058880e+07,  1.34338002e+07])"
      ]
     },
     "execution_count": 32,
     "metadata": {},
     "output_type": "execute_result"
    }
   ],
   "source": [
    "p_val"
   ]
  },
  {
   "cell_type": "code",
   "execution_count": 33,
   "metadata": {},
   "outputs": [
    {
     "name": "stdout",
     "output_type": "stream",
     "text": [
      "RMSE: 10404284.927998096\n"
     ]
    }
   ],
   "source": [
    "mse = mean_squared_error(t_val, p_val)\n",
    "print('RMSE:', math.sqrt(mse))"
   ]
  },
  {
   "cell_type": "code",
   "execution_count": 34,
   "metadata": {},
   "outputs": [
    {
     "name": "stdout",
     "output_type": "stream",
     "text": [
      "RMSE: 11343104.836676618\n"
     ]
    }
   ],
   "source": [
    "#ここはあまり見ません。訓練データなので。\n",
    "mse = mean_squared_error(t_train, p_train)\n",
    "print('RMSE:', math.sqrt(mse))"
   ]
  },
  {
   "cell_type": "code",
   "execution_count": 35,
   "metadata": {},
   "outputs": [],
   "source": [
    "from sklearn.metrics import mean_squared_error\n",
    "import math\n",
    "t_val = [1000 , 1500, 2000]\n",
    "p_val = [1002 , 1502, 1998]"
   ]
  },
  {
   "cell_type": "code",
   "execution_count": 36,
   "metadata": {
    "scrolled": true
   },
   "outputs": [
    {
     "name": "stdout",
     "output_type": "stream",
     "text": [
      "RMSE: 2.0\n"
     ]
    }
   ],
   "source": [
    "mse = mean_squared_error(t_val, p_val)\n",
    "print('RMSE:', math.sqrt(mse))"
   ]
  },
  {
   "cell_type": "code",
   "execution_count": 37,
   "metadata": {},
   "outputs": [
    {
     "data": {
      "text/plain": [
       "0.14444444444444443"
      ]
     },
     "execution_count": 37,
     "metadata": {},
     "output_type": "execute_result"
    }
   ],
   "source": [
    "import numpy as np\n",
    "t_val =np.array(t_val)\n",
    "p_val =np.array(p_val)\n",
    "np.mean(np.abs((t_val - p_val) / t_val)) * 100"
   ]
  },
  {
   "cell_type": "code",
   "execution_count": null,
   "metadata": {},
   "outputs": [],
   "source": [
    "\n"
   ]
  },
  {
   "cell_type": "markdown",
   "metadata": {},
   "source": [
    "#  いろいろなモデルを試してみましょう！"
   ]
  },
  {
   "cell_type": "markdown",
   "metadata": {},
   "source": [
    "### 色々なモデルかつ、色々な評価方法で試してみます。\n",
    "### 以下では、LinearRegression、Ridge回帰、決定木、サポートベクターマシンを比較します。"
   ]
  },
  {
   "cell_type": "markdown",
   "metadata": {},
   "source": [
    "### 標準化した場合はどうでしょうか？"
   ]
  }
 ],
 "metadata": {
  "colab": {
   "name": "1.3. 機械学習の基本.ipynb",
   "provenance": [],
   "version": "0.3.2"
  },
  "kernelspec": {
   "display_name": "Python 3",
   "language": "python",
   "name": "python3"
  },
  "language_info": {
   "codemirror_mode": {
    "name": "ipython",
    "version": 3
   },
   "file_extension": ".py",
   "mimetype": "text/x-python",
   "name": "python",
   "nbconvert_exporter": "python",
   "pygments_lexer": "ipython3",
   "version": "3.7.4"
  }
 },
 "nbformat": 4,
 "nbformat_minor": 1
}
